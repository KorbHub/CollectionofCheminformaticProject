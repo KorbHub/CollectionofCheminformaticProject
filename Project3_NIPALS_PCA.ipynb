{
  "nbformat": 4,
  "nbformat_minor": 0,
  "metadata": {
    "colab": {
      "name": "NIPALS_PCA.ipynb",
      "provenance": [],
      "collapsed_sections": []
    },
    "kernelspec": {
      "name": "python3",
      "display_name": "Python 3"
    },
    "language_info": {
      "name": "python"
    }
  },
  "cells": [
    {
      "cell_type": "code",
      "execution_count": null,
      "metadata": {
        "id": "lUtaBSjli4lY"
      },
      "outputs": [],
      "source": [
        "import numpy as np\n",
        "import pandas as pd\n",
        "import matplotlib.pyplot as plt"
      ]
    },
    {
      "cell_type": "code",
      "source": [
        "#Step1\n",
        "def move_vector_closer_to_largest_distribution(X,p):\n",
        "  t = np.dot(X,p)/np.dot(p,p.T)\n",
        "  p_new = np.dot(X.T,t)/np.dot(t.T,t)\n",
        "  p_new = p_new/np.sqrt(np.dot(p_new.T, p_new))\n",
        "  t_new = np.dot(X, p_new)\n",
        "  diff = t_new - t\n",
        "  diff_t = np.square(np.dot(diff, diff.T))\n",
        "  return p_new, diff_t"
      ],
      "metadata": {
        "id": "3QMwbfC8jH95"
      },
      "execution_count": null,
      "outputs": []
    },
    {
      "cell_type": "markdown",
      "source": [
        "Xとpの様子を確認するための以下の描画関数を実装する"
      ],
      "metadata": {
        "id": "qiTgtYniPt-l"
      }
    },
    {
      "cell_type": "code",
      "source": [
        "#step2\n",
        "def plot_matrix_and_vector(X,p=None,lim=None):\n",
        "  fig= plt.figure(figsize=[5,5])\n",
        "  ax = fig.add_subplot(1,1,1)\n",
        "  ax.plot(X[:,0],X[:,1],'r.')\n",
        "  #Xは赤点で表示\n",
        "  if p is not None:\n",
        "    ax.plot([0,p[0]],[0,p[1]],'b')\n",
        "  #pと原点の間に青線を引く\n",
        "  if lim is not None:\n",
        "    ax.set_xlim(lim[0], lim[1])\n",
        "  #横軸の表示範囲\n",
        "    ax.set_ylim(lim[0],lim[1])\n",
        "  #縦軸の表示範囲\n",
        "  plt.show()"
      ],
      "metadata": {
        "id": "OnZd565jjKbp"
      },
      "execution_count": null,
      "outputs": []
    },
    {
      "cell_type": "markdown",
      "source": [
        "3.以下の処理によって50行2列からなる行列Xおよびp=[1,0]を作成せよ。"
      ],
      "metadata": {
        "id": "xXpZ9kRXjP1Q"
      }
    },
    {
      "cell_type": "code",
      "source": [
        "#step3\n",
        "import numpy as np\n",
        "num_sample =50\n",
        "X = np.zeros([num_sample,2])\n",
        "X[:,0] = np. random. randn(X.shape[0])\n",
        "X[:,1] = X[:,0]*0.5\n",
        "X[:,0] +=np.random.randn(X.shape[0])*0.3\n",
        "X[:,1] += np.random.randn(X.shape[0])* 0.3\n",
        "X=X-np.mean(X,axis=0) #平均値がとなるようにシフト\n",
        "p= np.array([1,0])"
      ],
      "metadata": {
        "id": "_MblkO0kjRR4"
      },
      "execution_count": null,
      "outputs": []
    },
    {
      "cell_type": "markdown",
      "source": [
        "step2で作成した描画関数を使用する"
      ],
      "metadata": {
        "id": "oopcTyPIjbWf"
      }
    },
    {
      "cell_type": "code",
      "source": [
        "#step4\n",
        "plot_matrix_and_vector(X,p,[-4,4])"
      ],
      "metadata": {
        "colab": {
          "base_uri": "https://localhost:8080/",
          "height": 324
        },
        "id": "A64EZ239jTkY",
        "outputId": "90040730-5b2d-45b1-bb90-74f3c4fab949"
      },
      "execution_count": null,
      "outputs": [
        {
          "output_type": "display_data",
          "data": {
            "text/plain": [
              "<Figure size 360x360 with 1 Axes>"
            ],
            "image/png": "[encoded data removed]"
          },
          "metadata": {
            "needs_background": "light"
          }
        }
      ]
    },
    {
      "cell_type": "markdown",
      "source": [
        "1で作成した処理を複数回実行してpを更新するごとに、Xの分散の大きな方向にpが移動すること を確認せよ。更新後のp、誤差diff,も確認する。"
      ],
      "metadata": {
        "id": "Yh-fDasvP3Ze"
      }
    },
    {
      "cell_type": "code",
      "source": [
        "#step5\n",
        "#更新1回目\n",
        "p,diff_t=move_vector_closer_to_largest_distribution(X,p)\n",
        "plot_matrix_and_vector(X,p,[-4,4])\n",
        "print('p = {}'.format(p))\n",
        "print('diff_t = {}'. format(diff_t))\n",
        "#更新2回目\n",
        "p,diff_t=move_vector_closer_to_largest_distribution(X,p)\n",
        "plot_matrix_and_vector(X,p,[-4,4])\n",
        "print('p =',p)\n",
        "print('diff_t =',diff_t)\n",
        "#更新3回目\n",
        "p,diff_t =move_vector_closer_to_largest_distribution(X,p)\n",
        "plot_matrix_and_vector(X,p,[-4,4])\n",
        "print('p =',p)\n",
        "print('diff_t =',diff_t)"
      ],
      "metadata": {
        "colab": {
          "base_uri": "https://localhost:8080/",
          "height": 1000
        },
        "id": "rkpY-WS8kTOl",
        "outputId": "ead38a41-0be2-4f00-f9f0-63362ae07627"
      },
      "execution_count": null,
      "outputs": [
        {
          "output_type": "display_data",
          "data": {
            "text/plain": [
              "<Figure size 360x360 with 1 Axes>"
            ],
            "image/png": "[encoded data removed]"
          },
          "metadata": {
            "needs_background": "light"
          }
        },
        {
          "output_type": "stream",
          "name": "stdout",
          "text": [
            "p = [0.92064645 0.39039738]\n",
            "diff_t = 1.2660269291096957\n"
          ]
        },
        {
          "output_type": "display_data",
          "data": {
            "text/plain": [
              "<Figure size 360x360 with 1 Axes>"
            ],
            "image/png": "[encoded data removed]"
          },
          "metadata": {
            "needs_background": "light"
          }
        },
        {
          "output_type": "stream",
          "name": "stdout",
          "text": [
            "p = [0.91032977 0.41388369]\n",
            "diff_t = 6.743447650913799e-06\n"
          ]
        },
        {
          "output_type": "display_data",
          "data": {
            "text/plain": [
              "<Figure size 360x360 with 1 Axes>"
            ],
            "image/png": "[encoded data removed]"
          },
          "metadata": {
            "needs_background": "light"
          }
        },
        {
          "output_type": "stream",
          "name": "stdout",
          "text": [
            "p = [0.90969397 0.41527929]\n",
            "diff_t = 8.558276802022016e-11\n"
          ]
        }
      ]
    },
    {
      "cell_type": "markdown",
      "source": [
        "誤差diff,が指定した許容誤差以下になるまでpを更新する処理を実装する"
      ],
      "metadata": {
        "id": "f8rl8O6WkhEP"
      }
    },
    {
      "cell_type": "code",
      "source": [
        "#step6\n",
        "p=np.array([1,0])\n",
        "#pを初期化\n",
        "tolerance=1e-6\n",
        "#誤差の許容量\n",
        "diff_t=tolerance+1\n",
        "#tolerance以上の適当な値で初期化\n",
        "#誤差diff_tがtolerance以下になるまで更新処理を実行\n",
        "while diff_t > tolerance:\n",
        "  p,diff_t = move_vector_closer_to_largest_distribution(X,p)\n",
        "#更新後のpを確認\n",
        "plot_matrix_and_vector(X,p,[-4,4])\n",
        "print('p =',p)\n",
        "print('diff_t =',diff_t)"
      ],
      "metadata": {
        "colab": {
          "base_uri": "https://localhost:8080/",
          "height": 360
        },
        "id": "BWZr8p1Qkhkv",
        "outputId": "c2284a7b-b6d9-4b63-c8e2-fcab33f3e128"
      },
      "execution_count": null,
      "outputs": [
        {
          "output_type": "display_data",
          "data": {
            "text/plain": [
              "<Figure size 360x360 with 1 Axes>"
            ],
            "image/png": "[encoded data removed]"
          },
          "metadata": {
            "needs_background": "light"
          }
        },
        {
          "output_type": "stream",
          "name": "stdout",
          "text": [
            "p = [0.90969397 0.41527929]\n",
            "diff_t = 8.558276802022016e-11\n"
          ]
        }
      ]
    },
    {
      "cell_type": "markdown",
      "source": [
        "分布の大きな方向にベクトルが移動していることを確認せよ。 以上の処理によって得られたpが、Xの最も分散が大きな方向の軸（第一主成分軸）となる。"
      ],
      "metadata": {
        "id": "L6JYbhS7krFw"
      }
    },
    {
      "cell_type": "markdown",
      "source": [
        " 7.以下の処理によってXから第一主成分方向の成分を除去した残差をEとする。"
      ],
      "metadata": {
        "id": "vKImdhUfQGHJ"
      }
    },
    {
      "cell_type": "code",
      "source": [
        "#step7\n",
        "t=np.dot(X,p)\n",
        "E=X-np.dot(t.reshape(-1,1),p.reshape(1,-1))\n",
        "plot_matrix_and_vector(E,p,[-4,4])"
      ],
      "metadata": {
        "colab": {
          "base_uri": "https://localhost:8080/",
          "height": 324
        },
        "id": "KfrPdbgpkrsg",
        "outputId": "8feee85c-a6b0-4bfd-8941-d9cac07784ca"
      },
      "execution_count": null,
      "outputs": [
        {
          "output_type": "display_data",
          "data": {
            "text/plain": [
              "<Figure size 360x360 with 1 Axes>"
            ],
            "image/png": "[encoded data removed]"
          },
          "metadata": {
            "needs_background": "light"
          }
        }
      ]
    },
    {
      "cell_type": "markdown",
      "source": [
        "第一主成分軸に直交する成分のみが残ることが分かる"
      ],
      "metadata": {
        "id": "4x4fy4qZQR-4"
      }
    },
    {
      "cell_type": "code",
      "source": [
        "#step8(step6と同じく(Xを代わりに))\n",
        "p2=np.array([0,1])\n",
        "tolerance=1e-6\n",
        "#誤差の許容量\n",
        "diff_t=tolerance+1\n",
        "#tolerance以上の適当な値で初期化\n",
        "#誤差diff_tがtolerance以下になるまで更新処理を実行\n",
        "while diff_t > tolerance:\n",
        "  p2,diff_t = move_vector_closer_to_largest_distribution(E,p2)\n",
        "#更新後のpを確認\n",
        "plot_matrix_and_vector(E,p2,[-4,4])\n",
        "print('p2 =',p2)\n",
        "print('diff_t =',diff_t)"
      ],
      "metadata": {
        "id": "kok2Y2v1kxpo",
        "colab": {
          "base_uri": "https://localhost:8080/",
          "height": 360
        },
        "outputId": "4f2d2919-ea53-4637-ce2d-42b7882a78f0"
      },
      "execution_count": null,
      "outputs": [
        {
          "output_type": "display_data",
          "data": {
            "text/plain": [
              "<Figure size 360x360 with 1 Axes>"
            ],
            "image/png": "[encoded data removed]"
          },
          "metadata": {
            "needs_background": "light"
          }
        },
        {
          "output_type": "stream",
          "name": "stdout",
          "text": [
            "p2 = [-0.41527929  0.90969397]\n",
            "diff_t = 1.3389331389000148e-62\n"
          ]
        }
      ]
    },
    {
      "cell_type": "markdown",
      "source": [
        "一連の処理を利用しやすくするため、主成分分析を行うクラスを実装する。"
      ],
      "metadata": {
        "id": "oavbEAsZQXHD"
      }
    },
    {
      "cell_type": "code",
      "source": [
        "#step9\n",
        "import copy\n",
        "class myPCA:\n",
        "  def __init__(self, n_components=None,tolerance=1e-6):\n",
        "    self.n_components = n_components\n",
        "    self.tolerance =tolerance\n",
        "\n",
        "  def fit(self,X):\n",
        "    if self.n_components is None:\n",
        "      self.n_components = X.shape[1]\n",
        "    E=copy.deepcopy(X)\n",
        "    self.P = np.zeros((E.shape[1], self.n_components))\n",
        "    for ii in range(self.n_components):\n",
        "      #p=[1,0,..·,0]の作成\n",
        "      p=np.zeros(E.shape[1])\n",
        "      p[0]=1\n",
        "      #写像誤差diff_tが十分に小さくなるまでpを更新\n",
        "      diff_t=self.tolerance+1\n",
        "      while diff_t>self.tolerance:\n",
        "        p,diff_t = move_vector_closer_to_largest_distribution(E,p)\n",
        "      #残差Eを更新\n",
        "      t=np.dot(X,p)\n",
        "      E= E-np.dot(t.reshape(-1,1),p.reshape(1,-1))\n",
        "      self.P[:,ii]=p\n",
        "\n",
        "  def transform(self,X):\n",
        "    return np.dot(X,self.P)"
      ],
      "metadata": {
        "id": "nudIxyNPlmJf"
      },
      "execution_count": null,
      "outputs": []
    },
    {
      "cell_type": "code",
      "source": [
        "#step10 作成したクラスを用いて以下の処理を行う\n",
        "model = myPCA()\n",
        "model.fit(X)\n",
        "pc = model.transform(X)\n",
        "plot_matrix_and_vector(pc)"
      ],
      "metadata": {
        "id": "diDbVptRludA",
        "colab": {
          "base_uri": "https://localhost:8080/",
          "height": 320
        },
        "outputId": "5f67502f-60b3-4f07-9a9a-2a25122dfc4e"
      },
      "execution_count": null,
      "outputs": [
        {
          "output_type": "display_data",
          "data": {
            "text/plain": [
              "<Figure size 360x360 with 1 Axes>"
            ],
            "image/png": "[encoded data removed]"
          },
          "metadata": {
            "needs_background": "light"
          }
        }
      ]
    },
    {
      "cell_type": "markdown",
      "source": [
        "scikit-learn には特異値分解を用いた主成分分析が実装されている。scikit-learn による主成分分析 は以下の処理で実行可能である。10の結果と比較する。"
      ],
      "metadata": {
        "id": "plhdkoHuQsaB"
      }
    },
    {
      "cell_type": "code",
      "source": [
        "#step11 sci-kit learn\n",
        "!pip install scikit-learn==1.0.2\n"
      ],
      "metadata": {
        "colab": {
          "base_uri": "https://localhost:8080/"
        },
        "id": "LA9KHUWMmgnI",
        "outputId": "b8e0b641-97f8-40af-e06c-a3c31ca6a260"
      },
      "execution_count": null,
      "outputs": [
        {
          "output_type": "stream",
          "name": "stdout",
          "text": [
            "Looking in indexes: https://pypi.org/simple, https://us-python.pkg.dev/colab-wheels/public/simple/\n",
            "Requirement already satisfied: scikit-learn==1.0.2 in /usr/local/lib/python3.7/dist-packages (1.0.2)\n",
            "Requirement already satisfied: threadpoolctl>=2.0.0 in /usr/local/lib/python3.7/dist-packages (from scikit-learn==1.0.2) (3.1.0)\n",
            "Requirement already satisfied: joblib>=0.11 in /usr/local/lib/python3.7/dist-packages (from scikit-learn==1.0.2) (1.1.0)\n",
            "Requirement already satisfied: numpy>=1.14.6 in /usr/local/lib/python3.7/dist-packages (from scikit-learn==1.0.2) (1.21.6)\n",
            "Requirement already satisfied: scipy>=1.1.0 in /usr/local/lib/python3.7/dist-packages (from scikit-learn==1.0.2) (1.4.1)\n"
          ]
        }
      ]
    },
    {
      "cell_type": "code",
      "source": [
        "from sklearn.decomposition import PCA\n",
        "model_sk = PCA(n_components=2)\n",
        "model_sk.fit(X)\n",
        "pc_sk = model_sk.transform(X)\n",
        "plot_matrix_and_vector(pc_sk)"
      ],
      "metadata": {
        "colab": {
          "base_uri": "https://localhost:8080/",
          "height": 320
        },
        "id": "wLd27OeCmt4Q",
        "outputId": "53759417-1740-4838-d20f-18a1de1e99a2"
      },
      "execution_count": null,
      "outputs": [
        {
          "output_type": "display_data",
          "data": {
            "text/plain": [
              "<Figure size 360x360 with 1 Axes>"
            ],
            "image/png": "[encoded data removed]"
          },
          "metadata": {
            "needs_background": "light"
          }
        }
      ]
    },
    {
      "cell_type": "markdown",
      "source": [
        "グラフによれば、結果は一致していない。\n"
      ],
      "metadata": {
        "id": "RdfnDlKGQvbI"
      }
    },
    {
      "cell_type": "code",
      "source": [
        "#step12\n",
        "#irisデータセットをロードする\n",
        "from sklearn import datasets\n",
        "iris = datasets.load_iris()\n",
        "X = iris.data\n",
        "y = iris.target\n",
        "feature_names = iris.feature_names\n",
        "target_names = iris.target_names"
      ],
      "metadata": {
        "id": "vuBEB9I3nScY"
      },
      "execution_count": null,
      "outputs": []
    },
    {
      "cell_type": "markdown",
      "source": [
        "成分ごとのクラスの分布を確認するための以下の描画関数を実表する"
      ],
      "metadata": {
        "id": "W0K8SGSKQ6_P"
      }
    },
    {
      "cell_type": "code",
      "source": [
        "#step13\n",
        "def plot_class_components(X,y,c,axis=(0,1)):\n",
        "  fig =plt.figure(figsize=[5,5])\n",
        "  ax=fig.add_subplot(1,1,1)\n",
        "  for val,name, marker in c:\n",
        "    ax.plot(X[y==val,axis[0]],X[y==val,axis[1]],marker,label=name)\n",
        "  ax.legend()\n",
        "  plt.show()"
      ],
      "metadata": {
        "id": "wZhUV4sYnkN_"
      },
      "execution_count": null,
      "outputs": []
    },
    {
      "cell_type": "markdown",
      "source": [
        "元データを可視化する"
      ],
      "metadata": {
        "id": "L3mbNFvyQ-EL"
      }
    },
    {
      "cell_type": "code",
      "source": [
        "#step14\n",
        "c=[[0,target_names[0],'r.'], [1, target_names[1], 'g.'], [2, target_names[2],'b.']]\n",
        "plot_class_components(X,y,c,axis=(0,1))"
      ],
      "metadata": {
        "colab": {
          "base_uri": "https://localhost:8080/",
          "height": 322
        },
        "id": "QwmbRYw5nzam",
        "outputId": "87eef3df-da8d-49fb-9034-1e2a8b28a60f"
      },
      "execution_count": null,
      "outputs": [
        {
          "output_type": "display_data",
          "data": {
            "text/plain": [
              "<Figure size 360x360 with 1 Axes>"
            ],
            "image/png": "[encoded data removed]"
          },
          "metadata": {
            "needs_background": "light"
          }
        }
      ]
    },
    {
      "cell_type": "code",
      "source": [
        "#step15\n",
        "model =myPCA()\n",
        "model.fit(X)\n",
        "pc=model.transform(X)\n",
        "plot_class_components(pc,y,c,axis=(0,1))\n",
        "model_sk=PCA(n_components=4)\n",
        "model_sk.fit(X)\n",
        "pc_sk = model_sk.transform(X)\n",
        "plot_class_components(pc_sk,y,c,axis=(0,1))"
      ],
      "metadata": {
        "colab": {
          "base_uri": "https://localhost:8080/",
          "height": 626
        },
        "id": "4JkTqnnOn8av",
        "outputId": "2f2dbe67-91c2-4d44-d10a-1b2411052f6b"
      },
      "execution_count": null,
      "outputs": [
        {
          "output_type": "display_data",
          "data": {
            "text/plain": [
              "<Figure size 360x360 with 1 Axes>"
            ],
            "image/png": "[encoded data removed]"
          },
          "metadata": {
            "needs_background": "light"
          }
        },
        {
          "output_type": "display_data",
          "data": {
            "text/plain": [
              "<Figure size 360x360 with 1 Axes>"
            ],
            "image/png": "[encoded data removed]"
          },
          "metadata": {
            "needs_background": "light"
          }
        }
      ]
    },
    {
      "cell_type": "code",
      "source": [
        "#step16\n",
        "mean_X=np.mean(X,axis=0)\n",
        "X_centered =X - mean_X\n",
        "model=myPCA()\n",
        "model.fit(X_centered)\n",
        "pc =model.transform(X_centered)\n",
        "plot_class_components(pc,y,c,axis=(0,1))"
      ],
      "metadata": {
        "colab": {
          "base_uri": "https://localhost:8080/",
          "height": 323
        },
        "id": "3-7Te7akn2yu",
        "outputId": "4a99514b-3663-41c4-d005-8f1440449eb8"
      },
      "execution_count": null,
      "outputs": [
        {
          "output_type": "display_data",
          "data": {
            "text/plain": [
              "<Figure size 360x360 with 1 Axes>"
            ],
            "image/png": "[encoded data removed]"
          },
          "metadata": {
            "needs_background": "light"
          }
        }
      ]
    },
    {
      "cell_type": "markdown",
      "source": [
        "Standard scalerでデータセットを処理すると、MY_PCA()とSci-kit learnからの分類結果は同じになる訳である。\n"
      ],
      "metadata": {
        "id": "FH-29N9ERQdk"
      }
    }
  ]
}