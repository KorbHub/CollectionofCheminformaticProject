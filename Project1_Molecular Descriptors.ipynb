{
 "cells": [
  {
   "cell_type": "markdown",
   "metadata": {},
   "source": [
    "</bb> Prediction of solubiltiy using molecular descriptors and machine learning models </bb>\n",
    "\n",
    "This notebook comes from the classroom in my computational chemistry class in the chemical engineering department. This is a simple version of how to predict the solubility of the compound using molecular descriptors.\n",
    "\n",
    "We generate molecular descriptors using Rdkit and apply simple machine learning models such as PCA,PLS,and Random Forest to predict solubility. We also analyze the feature importance, to see which fragment contributes most to the prediction result."
   ]
  },
  {
   "cell_type": "code",
   "execution_count": null,
   "metadata": {
    "colab": {
     "base_uri": "https://localhost:8080/"
    },
    "id": "xpRwqu77P_mJ",
    "outputId": "2611907b-dadb-43c5-aa45-ae7b9922dfd9"
   },
   "outputs": [
    {
     "name": "stdout",
     "output_type": "stream",
     "text": [
      "Looking in indexes: https://pypi.org/simple, https://us-python.pkg.dev/colab-wheels/public/simple/\n",
      "Collecting rdkit-pypi==2021.9.4\n",
      "  Downloading rdkit_pypi-2021.9.4-cp37-cp37m-manylinux_2_17_x86_64.manylinux2014_x86_64.whl (20.6 MB)\n",
      "\u001b[K     |████████████████████████████████| 20.6 MB 1.4 MB/s \n",
      "\u001b[?25hRequirement already satisfied: Pillow in /usr/local/lib/python3.7/dist-packages (from rdkit-pypi==2021.9.4) (7.1.2)\n",
      "Requirement already satisfied: numpy>=1.19 in /usr/local/lib/python3.7/dist-packages (from rdkit-pypi==2021.9.4) (1.21.6)\n",
      "Installing collected packages: rdkit-pypi\n",
      "Successfully installed rdkit-pypi-2021.9.4\n"
     ]
    }
   ],
   "source": [
    "!pip install rdkit-pypi==2021.9.4"
   ]
  },
  {
   "cell_type": "code",
   "execution_count": null,
   "metadata": {
    "id": "6MRnv99lQgIy"
   },
   "outputs": [],
   "source": [
    "import rdkit"
   ]
  },
  {
   "cell_type": "code",
   "execution_count": null,
   "metadata": {
    "id": "1WNT4pHXRqai"
   },
   "outputs": [],
   "source": [
    "import numpy as np\n",
    "from rdkit import Chem\n",
    "from rdkit.Chem import Descriptors\n",
    "from rdkit.ML.Descriptors.MoleculeDescriptors import (\n",
    "    MolecularDescriptorCalculator\n",
    ")"
   ]
  },
  {
   "cell_type": "code",
   "execution_count": null,
   "metadata": {
    "colab": {
     "base_uri": "https://localhost:8080/"
    },
    "id": "u7LDZ8uzSHT7",
    "outputId": "0f8aebb1-c4be-457c-f46b-a75ae1e706f9"
   },
   "outputs": [
    {
     "name": "stdout",
     "output_type": "stream",
     "text": [
      "load 1708 molecules\n"
     ]
    }
   ],
   "source": [
    "mols = [mol for mol in Chem.SDMolSupplier('solubility_2007.sdf.txt') if mol is not None]\n",
    "print('load {} molecules'.format(len(mols)))"
   ]
  },
  {
   "cell_type": "code",
   "execution_count": null,
   "metadata": {
    "id": "kf165dyTThTx"
   },
   "outputs": [],
   "source": [
    "\n",
    "import pandas as pd\n",
    "smiles = [Chem.MolToSmiles(mol) for mol in mols]\n",
    "descriptors_names = [name for name,_ in Descriptors.descList]\n",
    "calculator = MolecularDescriptorCalculator(descriptors_names)\n",
    "X = pd.DataFrame(\n",
    "    [calculator.CalcDescriptors(mol) for mol in mols],\n",
    "    index=smiles,columns=descriptors_names\n",
    ")"
   ]
  },
  {
   "cell_type": "code",
   "execution_count": null,
   "metadata": {
    "id": "wSq5gBWzU7D6"
   },
   "outputs": [],
   "source": [
    "X = X.loc[:,X.columns.str.startswith('fr_')]"
   ]
  },
  {
   "cell_type": "code",
   "execution_count": null,
   "metadata": {
    "id": "YjOP7RalVDnp"
   },
   "outputs": [],
   "source": [
    "X = X.astype(np.float64)"
   ]
  },
  {
   "cell_type": "code",
   "execution_count": null,
   "metadata": {
    "id": "PTYTOoEdVJWv"
   },
   "outputs": [],
   "source": [
    "X.dropna(axis=1,inplace=True)\n",
    "y = np.array([float(mol.GetProp('EXPT'))for mol in mols])"
   ]
  },
  {
   "cell_type": "code",
   "execution_count": null,
   "metadata": {
    "colab": {
     "base_uri": "https://localhost:8080/"
    },
    "id": "9KjJokYoW5rx",
    "outputId": "2d788a9c-e4c5-46d8-84b6-f100f1ee7d52"
   },
   "outputs": [
    {
     "data": {
      "text/plain": [
       "array([-4.35, -3.33, -6.98, ..., -1.44, -4.86, -3.9 ])"
      ]
     },
     "execution_count": 9,
     "metadata": {},
     "output_type": "execute_result"
    }
   ],
   "source": [
    "y"
   ]
  },
  {
   "cell_type": "markdown",
   "metadata": {
    "id": "BBvA3T5TV1sH"
   },
   "source": [
    "### 課題２:可視化"
   ]
  },
  {
   "cell_type": "code",
   "execution_count": null,
   "metadata": {
    "colab": {
     "base_uri": "https://localhost:8080/",
     "height": 522
    },
    "id": "6yqrcDeSVaeJ",
    "outputId": "4c062eb7-b75b-485f-df53-65f5c3de1412"
   },
   "outputs": [
    {
     "data": {
      "text/html": [
       "\n",
       "  <div id=\"df-94f400b3-d517-4cf1-a16d-e06cfc1e6abb\">\n",
       "    <div class=\"colab-df-container\">\n",
       "      <div>\n",
       "<style scoped>\n",
       "    .dataframe tbody tr th:only-of-type {\n",
       "        vertical-align: middle;\n",
       "    }\n",
       "\n",
       "    .dataframe tbody tr th {\n",
       "        vertical-align: top;\n",
       "    }\n",
       "\n",
       "    .dataframe thead th {\n",
       "        text-align: right;\n",
       "    }\n",
       "</style>\n",
       "<table border=\"1\" class=\"dataframe\">\n",
       "  <thead>\n",
       "    <tr style=\"text-align: right;\">\n",
       "      <th></th>\n",
       "      <th>fr_Al_COO</th>\n",
       "      <th>fr_Al_OH</th>\n",
       "      <th>fr_Al_OH_noTert</th>\n",
       "      <th>fr_ArN</th>\n",
       "      <th>fr_Ar_COO</th>\n",
       "      <th>fr_Ar_N</th>\n",
       "      <th>fr_Ar_NH</th>\n",
       "      <th>fr_Ar_OH</th>\n",
       "      <th>fr_COO</th>\n",
       "      <th>fr_COO2</th>\n",
       "      <th>...</th>\n",
       "      <th>fr_sulfide</th>\n",
       "      <th>fr_sulfonamd</th>\n",
       "      <th>fr_sulfone</th>\n",
       "      <th>fr_term_acetylene</th>\n",
       "      <th>fr_tetrazole</th>\n",
       "      <th>fr_thiazole</th>\n",
       "      <th>fr_thiocyan</th>\n",
       "      <th>fr_thiophene</th>\n",
       "      <th>fr_unbrch_alkane</th>\n",
       "      <th>fr_urea</th>\n",
       "    </tr>\n",
       "  </thead>\n",
       "  <tbody>\n",
       "    <tr>\n",
       "      <th>Brc1cccc2ccccc12</th>\n",
       "      <td>0.0</td>\n",
       "      <td>0.0</td>\n",
       "      <td>0.0</td>\n",
       "      <td>0.0</td>\n",
       "      <td>0.0</td>\n",
       "      <td>0.0</td>\n",
       "      <td>0.0</td>\n",
       "      <td>0.0</td>\n",
       "      <td>0.0</td>\n",
       "      <td>0.0</td>\n",
       "      <td>...</td>\n",
       "      <td>0.0</td>\n",
       "      <td>0.0</td>\n",
       "      <td>0.0</td>\n",
       "      <td>0.0</td>\n",
       "      <td>0.0</td>\n",
       "      <td>0.0</td>\n",
       "      <td>0.0</td>\n",
       "      <td>0.0</td>\n",
       "      <td>0.0</td>\n",
       "      <td>0.0</td>\n",
       "    </tr>\n",
       "    <tr>\n",
       "      <th>N#Cc1cc(Br)c(O)c(Br)c1</th>\n",
       "      <td>0.0</td>\n",
       "      <td>0.0</td>\n",
       "      <td>0.0</td>\n",
       "      <td>0.0</td>\n",
       "      <td>0.0</td>\n",
       "      <td>0.0</td>\n",
       "      <td>0.0</td>\n",
       "      <td>1.0</td>\n",
       "      <td>0.0</td>\n",
       "      <td>0.0</td>\n",
       "      <td>...</td>\n",
       "      <td>0.0</td>\n",
       "      <td>0.0</td>\n",
       "      <td>0.0</td>\n",
       "      <td>0.0</td>\n",
       "      <td>0.0</td>\n",
       "      <td>0.0</td>\n",
       "      <td>0.0</td>\n",
       "      <td>0.0</td>\n",
       "      <td>0.0</td>\n",
       "      <td>0.0</td>\n",
       "    </tr>\n",
       "    <tr>\n",
       "      <th>Brc1cc(Br)c(Br)cc1Br</th>\n",
       "      <td>0.0</td>\n",
       "      <td>0.0</td>\n",
       "      <td>0.0</td>\n",
       "      <td>0.0</td>\n",
       "      <td>0.0</td>\n",
       "      <td>0.0</td>\n",
       "      <td>0.0</td>\n",
       "      <td>0.0</td>\n",
       "      <td>0.0</td>\n",
       "      <td>0.0</td>\n",
       "      <td>...</td>\n",
       "      <td>0.0</td>\n",
       "      <td>0.0</td>\n",
       "      <td>0.0</td>\n",
       "      <td>0.0</td>\n",
       "      <td>0.0</td>\n",
       "      <td>0.0</td>\n",
       "      <td>0.0</td>\n",
       "      <td>0.0</td>\n",
       "      <td>0.0</td>\n",
       "      <td>0.0</td>\n",
       "    </tr>\n",
       "    <tr>\n",
       "      <th>COP(=S)(OC)Oc1cc(Cl)c(Br)cc1Cl</th>\n",
       "      <td>0.0</td>\n",
       "      <td>0.0</td>\n",
       "      <td>0.0</td>\n",
       "      <td>0.0</td>\n",
       "      <td>0.0</td>\n",
       "      <td>0.0</td>\n",
       "      <td>0.0</td>\n",
       "      <td>0.0</td>\n",
       "      <td>0.0</td>\n",
       "      <td>0.0</td>\n",
       "      <td>...</td>\n",
       "      <td>0.0</td>\n",
       "      <td>0.0</td>\n",
       "      <td>0.0</td>\n",
       "      <td>0.0</td>\n",
       "      <td>0.0</td>\n",
       "      <td>0.0</td>\n",
       "      <td>0.0</td>\n",
       "      <td>0.0</td>\n",
       "      <td>0.0</td>\n",
       "      <td>0.0</td>\n",
       "    </tr>\n",
       "    <tr>\n",
       "      <th>CON(C)C(=O)Nc1ccc(Br)c(Cl)c1</th>\n",
       "      <td>0.0</td>\n",
       "      <td>0.0</td>\n",
       "      <td>0.0</td>\n",
       "      <td>0.0</td>\n",
       "      <td>0.0</td>\n",
       "      <td>0.0</td>\n",
       "      <td>0.0</td>\n",
       "      <td>0.0</td>\n",
       "      <td>0.0</td>\n",
       "      <td>0.0</td>\n",
       "      <td>...</td>\n",
       "      <td>0.0</td>\n",
       "      <td>0.0</td>\n",
       "      <td>0.0</td>\n",
       "      <td>0.0</td>\n",
       "      <td>0.0</td>\n",
       "      <td>0.0</td>\n",
       "      <td>0.0</td>\n",
       "      <td>0.0</td>\n",
       "      <td>0.0</td>\n",
       "      <td>1.0</td>\n",
       "    </tr>\n",
       "    <tr>\n",
       "      <th>...</th>\n",
       "      <td>...</td>\n",
       "      <td>...</td>\n",
       "      <td>...</td>\n",
       "      <td>...</td>\n",
       "      <td>...</td>\n",
       "      <td>...</td>\n",
       "      <td>...</td>\n",
       "      <td>...</td>\n",
       "      <td>...</td>\n",
       "      <td>...</td>\n",
       "      <td>...</td>\n",
       "      <td>...</td>\n",
       "      <td>...</td>\n",
       "      <td>...</td>\n",
       "      <td>...</td>\n",
       "      <td>...</td>\n",
       "      <td>...</td>\n",
       "      <td>...</td>\n",
       "      <td>...</td>\n",
       "      <td>...</td>\n",
       "      <td>...</td>\n",
       "    </tr>\n",
       "    <tr>\n",
       "      <th>CCOC(=O)CC(SP(=S)(OC)OC)C(=O)OCC</th>\n",
       "      <td>0.0</td>\n",
       "      <td>0.0</td>\n",
       "      <td>0.0</td>\n",
       "      <td>0.0</td>\n",
       "      <td>0.0</td>\n",
       "      <td>0.0</td>\n",
       "      <td>0.0</td>\n",
       "      <td>0.0</td>\n",
       "      <td>0.0</td>\n",
       "      <td>0.0</td>\n",
       "      <td>...</td>\n",
       "      <td>0.0</td>\n",
       "      <td>0.0</td>\n",
       "      <td>0.0</td>\n",
       "      <td>0.0</td>\n",
       "      <td>0.0</td>\n",
       "      <td>0.0</td>\n",
       "      <td>0.0</td>\n",
       "      <td>0.0</td>\n",
       "      <td>0.0</td>\n",
       "      <td>0.0</td>\n",
       "    </tr>\n",
       "    <tr>\n",
       "      <th>CCSSCC</th>\n",
       "      <td>0.0</td>\n",
       "      <td>0.0</td>\n",
       "      <td>0.0</td>\n",
       "      <td>0.0</td>\n",
       "      <td>0.0</td>\n",
       "      <td>0.0</td>\n",
       "      <td>0.0</td>\n",
       "      <td>0.0</td>\n",
       "      <td>0.0</td>\n",
       "      <td>0.0</td>\n",
       "      <td>...</td>\n",
       "      <td>0.0</td>\n",
       "      <td>0.0</td>\n",
       "      <td>0.0</td>\n",
       "      <td>0.0</td>\n",
       "      <td>0.0</td>\n",
       "      <td>0.0</td>\n",
       "      <td>0.0</td>\n",
       "      <td>0.0</td>\n",
       "      <td>1.0</td>\n",
       "      <td>0.0</td>\n",
       "    </tr>\n",
       "    <tr>\n",
       "      <th>CSSC</th>\n",
       "      <td>0.0</td>\n",
       "      <td>0.0</td>\n",
       "      <td>0.0</td>\n",
       "      <td>0.0</td>\n",
       "      <td>0.0</td>\n",
       "      <td>0.0</td>\n",
       "      <td>0.0</td>\n",
       "      <td>0.0</td>\n",
       "      <td>0.0</td>\n",
       "      <td>0.0</td>\n",
       "      <td>...</td>\n",
       "      <td>0.0</td>\n",
       "      <td>0.0</td>\n",
       "      <td>0.0</td>\n",
       "      <td>0.0</td>\n",
       "      <td>0.0</td>\n",
       "      <td>0.0</td>\n",
       "      <td>0.0</td>\n",
       "      <td>0.0</td>\n",
       "      <td>0.0</td>\n",
       "      <td>0.0</td>\n",
       "    </tr>\n",
       "    <tr>\n",
       "      <th>CCN(CC)C(=S)SSC(=S)N(CC)CC</th>\n",
       "      <td>0.0</td>\n",
       "      <td>0.0</td>\n",
       "      <td>0.0</td>\n",
       "      <td>0.0</td>\n",
       "      <td>0.0</td>\n",
       "      <td>0.0</td>\n",
       "      <td>0.0</td>\n",
       "      <td>0.0</td>\n",
       "      <td>0.0</td>\n",
       "      <td>0.0</td>\n",
       "      <td>...</td>\n",
       "      <td>0.0</td>\n",
       "      <td>0.0</td>\n",
       "      <td>0.0</td>\n",
       "      <td>0.0</td>\n",
       "      <td>0.0</td>\n",
       "      <td>0.0</td>\n",
       "      <td>0.0</td>\n",
       "      <td>0.0</td>\n",
       "      <td>0.0</td>\n",
       "      <td>0.0</td>\n",
       "    </tr>\n",
       "    <tr>\n",
       "      <th>CN(C)C(=S)SSC(=S)N(C)C</th>\n",
       "      <td>0.0</td>\n",
       "      <td>0.0</td>\n",
       "      <td>0.0</td>\n",
       "      <td>0.0</td>\n",
       "      <td>0.0</td>\n",
       "      <td>0.0</td>\n",
       "      <td>0.0</td>\n",
       "      <td>0.0</td>\n",
       "      <td>0.0</td>\n",
       "      <td>0.0</td>\n",
       "      <td>...</td>\n",
       "      <td>0.0</td>\n",
       "      <td>0.0</td>\n",
       "      <td>0.0</td>\n",
       "      <td>0.0</td>\n",
       "      <td>0.0</td>\n",
       "      <td>0.0</td>\n",
       "      <td>0.0</td>\n",
       "      <td>0.0</td>\n",
       "      <td>0.0</td>\n",
       "      <td>0.0</td>\n",
       "    </tr>\n",
       "  </tbody>\n",
       "</table>\n",
       "<p>1708 rows × 85 columns</p>\n",
       "</div>\n",
       "      <button class=\"colab-df-convert\" onclick=\"convertToInteractive('df-94f400b3-d517-4cf1-a16d-e06cfc1e6abb')\"\n",
       "              title=\"Convert this dataframe to an interactive table.\"\n",
       "              style=\"display:none;\">\n",
       "        \n",
       "  <svg xmlns=\"http://www.w3.org/2000/svg\" height=\"24px\"viewBox=\"0 0 24 24\"\n",
       "       width=\"24px\">\n",
       "    <path d=\"M0 0h24v24H0V0z\" fill=\"none\"/>\n",
       "    <path d=\"M18.56 5.44l.94 2.06.94-2.06 2.06-.94-2.06-.94-.94-2.06-.94 2.06-2.06.94zm-11 1L8.5 8.5l.94-2.06 2.06-.94-2.06-.94L8.5 2.5l-.94 2.06-2.06.94zm10 10l.94 2.06.94-2.06 2.06-.94-2.06-.94-.94-2.06-.94 2.06-2.06.94z\"/><path d=\"M17.41 7.96l-1.37-1.37c-.4-.4-.92-.59-1.43-.59-.52 0-1.04.2-1.43.59L10.3 9.45l-7.72 7.72c-.78.78-.78 2.05 0 2.83L4 21.41c.39.39.9.59 1.41.59.51 0 1.02-.2 1.41-.59l7.78-7.78 2.81-2.81c.8-.78.8-2.07 0-2.86zM5.41 20L4 18.59l7.72-7.72 1.47 1.35L5.41 20z\"/>\n",
       "  </svg>\n",
       "      </button>\n",
       "      \n",
       "  <style>\n",
       "    .colab-df-container {\n",
       "      display:flex;\n",
       "      flex-wrap:wrap;\n",
       "      gap: 12px;\n",
       "    }\n",
       "\n",
       "    .colab-df-convert {\n",
       "      background-color: #E8F0FE;\n",
       "      border: none;\n",
       "      border-radius: 50%;\n",
       "      cursor: pointer;\n",
       "      display: none;\n",
       "      fill: #1967D2;\n",
       "      height: 32px;\n",
       "      padding: 0 0 0 0;\n",
       "      width: 32px;\n",
       "    }\n",
       "\n",
       "    .colab-df-convert:hover {\n",
       "      background-color: #E2EBFA;\n",
       "      box-shadow: 0px 1px 2px rgba(60, 64, 67, 0.3), 0px 1px 3px 1px rgba(60, 64, 67, 0.15);\n",
       "      fill: #174EA6;\n",
       "    }\n",
       "\n",
       "    [theme=dark] .colab-df-convert {\n",
       "      background-color: #3B4455;\n",
       "      fill: #D2E3FC;\n",
       "    }\n",
       "\n",
       "    [theme=dark] .colab-df-convert:hover {\n",
       "      background-color: #434B5C;\n",
       "      box-shadow: 0px 1px 3px 1px rgba(0, 0, 0, 0.15);\n",
       "      filter: drop-shadow(0px 1px 2px rgba(0, 0, 0, 0.3));\n",
       "      fill: #FFFFFF;\n",
       "    }\n",
       "  </style>\n",
       "\n",
       "      <script>\n",
       "        const buttonEl =\n",
       "          document.querySelector('#df-94f400b3-d517-4cf1-a16d-e06cfc1e6abb button.colab-df-convert');\n",
       "        buttonEl.style.display =\n",
       "          google.colab.kernel.accessAllowed ? 'block' : 'none';\n",
       "\n",
       "        async function convertToInteractive(key) {\n",
       "          const element = document.querySelector('#df-94f400b3-d517-4cf1-a16d-e06cfc1e6abb');\n",
       "          const dataTable =\n",
       "            await google.colab.kernel.invokeFunction('convertToInteractive',\n",
       "                                                     [key], {});\n",
       "          if (!dataTable) return;\n",
       "\n",
       "          const docLinkHtml = 'Like what you see? Visit the ' +\n",
       "            '<a target=\"_blank\" href=https://colab.research.google.com/notebooks/data_table.ipynb>data table notebook</a>'\n",
       "            + ' to learn more about interactive tables.';\n",
       "          element.innerHTML = '';\n",
       "          dataTable['output_type'] = 'display_data';\n",
       "          await google.colab.output.renderOutput(dataTable, element);\n",
       "          const docLink = document.createElement('div');\n",
       "          docLink.innerHTML = docLinkHtml;\n",
       "          element.appendChild(docLink);\n",
       "        }\n",
       "      </script>\n",
       "    </div>\n",
       "  </div>\n",
       "  "
      ],
      "text/plain": [
       "                                  fr_Al_COO  fr_Al_OH  fr_Al_OH_noTert  \\\n",
       "Brc1cccc2ccccc12                        0.0       0.0              0.0   \n",
       "N#Cc1cc(Br)c(O)c(Br)c1                  0.0       0.0              0.0   \n",
       "Brc1cc(Br)c(Br)cc1Br                    0.0       0.0              0.0   \n",
       "COP(=S)(OC)Oc1cc(Cl)c(Br)cc1Cl          0.0       0.0              0.0   \n",
       "CON(C)C(=O)Nc1ccc(Br)c(Cl)c1            0.0       0.0              0.0   \n",
       "...                                     ...       ...              ...   \n",
       "CCOC(=O)CC(SP(=S)(OC)OC)C(=O)OCC        0.0       0.0              0.0   \n",
       "CCSSCC                                  0.0       0.0              0.0   \n",
       "CSSC                                    0.0       0.0              0.0   \n",
       "CCN(CC)C(=S)SSC(=S)N(CC)CC              0.0       0.0              0.0   \n",
       "CN(C)C(=S)SSC(=S)N(C)C                  0.0       0.0              0.0   \n",
       "\n",
       "                                  fr_ArN  fr_Ar_COO  fr_Ar_N  fr_Ar_NH  \\\n",
       "Brc1cccc2ccccc12                     0.0        0.0      0.0       0.0   \n",
       "N#Cc1cc(Br)c(O)c(Br)c1               0.0        0.0      0.0       0.0   \n",
       "Brc1cc(Br)c(Br)cc1Br                 0.0        0.0      0.0       0.0   \n",
       "COP(=S)(OC)Oc1cc(Cl)c(Br)cc1Cl       0.0        0.0      0.0       0.0   \n",
       "CON(C)C(=O)Nc1ccc(Br)c(Cl)c1         0.0        0.0      0.0       0.0   \n",
       "...                                  ...        ...      ...       ...   \n",
       "CCOC(=O)CC(SP(=S)(OC)OC)C(=O)OCC     0.0        0.0      0.0       0.0   \n",
       "CCSSCC                               0.0        0.0      0.0       0.0   \n",
       "CSSC                                 0.0        0.0      0.0       0.0   \n",
       "CCN(CC)C(=S)SSC(=S)N(CC)CC           0.0        0.0      0.0       0.0   \n",
       "CN(C)C(=S)SSC(=S)N(C)C               0.0        0.0      0.0       0.0   \n",
       "\n",
       "                                  fr_Ar_OH  fr_COO  fr_COO2  ...  fr_sulfide  \\\n",
       "Brc1cccc2ccccc12                       0.0     0.0      0.0  ...         0.0   \n",
       "N#Cc1cc(Br)c(O)c(Br)c1                 1.0     0.0      0.0  ...         0.0   \n",
       "Brc1cc(Br)c(Br)cc1Br                   0.0     0.0      0.0  ...         0.0   \n",
       "COP(=S)(OC)Oc1cc(Cl)c(Br)cc1Cl         0.0     0.0      0.0  ...         0.0   \n",
       "CON(C)C(=O)Nc1ccc(Br)c(Cl)c1           0.0     0.0      0.0  ...         0.0   \n",
       "...                                    ...     ...      ...  ...         ...   \n",
       "CCOC(=O)CC(SP(=S)(OC)OC)C(=O)OCC       0.0     0.0      0.0  ...         0.0   \n",
       "CCSSCC                                 0.0     0.0      0.0  ...         0.0   \n",
       "CSSC                                   0.0     0.0      0.0  ...         0.0   \n",
       "CCN(CC)C(=S)SSC(=S)N(CC)CC             0.0     0.0      0.0  ...         0.0   \n",
       "CN(C)C(=S)SSC(=S)N(C)C                 0.0     0.0      0.0  ...         0.0   \n",
       "\n",
       "                                  fr_sulfonamd  fr_sulfone  fr_term_acetylene  \\\n",
       "Brc1cccc2ccccc12                           0.0         0.0                0.0   \n",
       "N#Cc1cc(Br)c(O)c(Br)c1                     0.0         0.0                0.0   \n",
       "Brc1cc(Br)c(Br)cc1Br                       0.0         0.0                0.0   \n",
       "COP(=S)(OC)Oc1cc(Cl)c(Br)cc1Cl             0.0         0.0                0.0   \n",
       "CON(C)C(=O)Nc1ccc(Br)c(Cl)c1               0.0         0.0                0.0   \n",
       "...                                        ...         ...                ...   \n",
       "CCOC(=O)CC(SP(=S)(OC)OC)C(=O)OCC           0.0         0.0                0.0   \n",
       "CCSSCC                                     0.0         0.0                0.0   \n",
       "CSSC                                       0.0         0.0                0.0   \n",
       "CCN(CC)C(=S)SSC(=S)N(CC)CC                 0.0         0.0                0.0   \n",
       "CN(C)C(=S)SSC(=S)N(C)C                     0.0         0.0                0.0   \n",
       "\n",
       "                                  fr_tetrazole  fr_thiazole  fr_thiocyan  \\\n",
       "Brc1cccc2ccccc12                           0.0          0.0          0.0   \n",
       "N#Cc1cc(Br)c(O)c(Br)c1                     0.0          0.0          0.0   \n",
       "Brc1cc(Br)c(Br)cc1Br                       0.0          0.0          0.0   \n",
       "COP(=S)(OC)Oc1cc(Cl)c(Br)cc1Cl             0.0          0.0          0.0   \n",
       "CON(C)C(=O)Nc1ccc(Br)c(Cl)c1               0.0          0.0          0.0   \n",
       "...                                        ...          ...          ...   \n",
       "CCOC(=O)CC(SP(=S)(OC)OC)C(=O)OCC           0.0          0.0          0.0   \n",
       "CCSSCC                                     0.0          0.0          0.0   \n",
       "CSSC                                       0.0          0.0          0.0   \n",
       "CCN(CC)C(=S)SSC(=S)N(CC)CC                 0.0          0.0          0.0   \n",
       "CN(C)C(=S)SSC(=S)N(C)C                     0.0          0.0          0.0   \n",
       "\n",
       "                                  fr_thiophene  fr_unbrch_alkane  fr_urea  \n",
       "Brc1cccc2ccccc12                           0.0               0.0      0.0  \n",
       "N#Cc1cc(Br)c(O)c(Br)c1                     0.0               0.0      0.0  \n",
       "Brc1cc(Br)c(Br)cc1Br                       0.0               0.0      0.0  \n",
       "COP(=S)(OC)Oc1cc(Cl)c(Br)cc1Cl             0.0               0.0      0.0  \n",
       "CON(C)C(=O)Nc1ccc(Br)c(Cl)c1               0.0               0.0      1.0  \n",
       "...                                        ...               ...      ...  \n",
       "CCOC(=O)CC(SP(=S)(OC)OC)C(=O)OCC           0.0               0.0      0.0  \n",
       "CCSSCC                                     0.0               1.0      0.0  \n",
       "CSSC                                       0.0               0.0      0.0  \n",
       "CCN(CC)C(=S)SSC(=S)N(CC)CC                 0.0               0.0      0.0  \n",
       "CN(C)C(=S)SSC(=S)N(C)C                     0.0               0.0      0.0  \n",
       "\n",
       "[1708 rows x 85 columns]"
      ]
     },
     "execution_count": 10,
     "metadata": {},
     "output_type": "execute_result"
    }
   ],
   "source": [
    "X"
   ]
  },
  {
   "cell_type": "code",
   "execution_count": null,
   "metadata": {
    "id": "dqpSmwiEV4U3"
   },
   "outputs": [],
   "source": [
    "#適当5行\n",
    "X_fun = X[15:20]"
   ]
  },
  {
   "cell_type": "code",
   "execution_count": null,
   "metadata": {
    "colab": {
     "base_uri": "https://localhost:8080/",
     "height": 317
    },
    "id": "i35vi7EfWBvp",
    "outputId": "967c6c38-5ee4-4d84-a1e5-984442194c10"
   },
   "outputs": [
    {
     "data": {
      "text/html": [
       "\n",
       "  <div id=\"df-2923e6d6-fafd-408a-9c97-4a3629f3581f\">\n",
       "    <div class=\"colab-df-container\">\n",
       "      <div>\n",
       "<style scoped>\n",
       "    .dataframe tbody tr th:only-of-type {\n",
       "        vertical-align: middle;\n",
       "    }\n",
       "\n",
       "    .dataframe tbody tr th {\n",
       "        vertical-align: top;\n",
       "    }\n",
       "\n",
       "    .dataframe thead th {\n",
       "        text-align: right;\n",
       "    }\n",
       "</style>\n",
       "<table border=\"1\" class=\"dataframe\">\n",
       "  <thead>\n",
       "    <tr style=\"text-align: right;\">\n",
       "      <th></th>\n",
       "      <th>fr_Al_COO</th>\n",
       "      <th>fr_Al_OH</th>\n",
       "      <th>fr_Al_OH_noTert</th>\n",
       "      <th>fr_ArN</th>\n",
       "      <th>fr_Ar_COO</th>\n",
       "      <th>fr_Ar_N</th>\n",
       "      <th>fr_Ar_NH</th>\n",
       "      <th>fr_Ar_OH</th>\n",
       "      <th>fr_COO</th>\n",
       "      <th>fr_COO2</th>\n",
       "      <th>...</th>\n",
       "      <th>fr_sulfide</th>\n",
       "      <th>fr_sulfonamd</th>\n",
       "      <th>fr_sulfone</th>\n",
       "      <th>fr_term_acetylene</th>\n",
       "      <th>fr_tetrazole</th>\n",
       "      <th>fr_thiazole</th>\n",
       "      <th>fr_thiocyan</th>\n",
       "      <th>fr_thiophene</th>\n",
       "      <th>fr_unbrch_alkane</th>\n",
       "      <th>fr_urea</th>\n",
       "    </tr>\n",
       "  </thead>\n",
       "  <tbody>\n",
       "    <tr>\n",
       "      <th>Clc1cccc(Br)c1</th>\n",
       "      <td>0.0</td>\n",
       "      <td>0.0</td>\n",
       "      <td>0.0</td>\n",
       "      <td>0.0</td>\n",
       "      <td>0.0</td>\n",
       "      <td>0.0</td>\n",
       "      <td>0.0</td>\n",
       "      <td>0.0</td>\n",
       "      <td>0.0</td>\n",
       "      <td>0.0</td>\n",
       "      <td>...</td>\n",
       "      <td>0.0</td>\n",
       "      <td>0.0</td>\n",
       "      <td>0.0</td>\n",
       "      <td>0.0</td>\n",
       "      <td>0.0</td>\n",
       "      <td>0.0</td>\n",
       "      <td>0.0</td>\n",
       "      <td>0.0</td>\n",
       "      <td>0.0</td>\n",
       "      <td>0.0</td>\n",
       "    </tr>\n",
       "    <tr>\n",
       "      <th>Fc1cccc(Br)c1</th>\n",
       "      <td>0.0</td>\n",
       "      <td>0.0</td>\n",
       "      <td>0.0</td>\n",
       "      <td>0.0</td>\n",
       "      <td>0.0</td>\n",
       "      <td>0.0</td>\n",
       "      <td>0.0</td>\n",
       "      <td>0.0</td>\n",
       "      <td>0.0</td>\n",
       "      <td>0.0</td>\n",
       "      <td>...</td>\n",
       "      <td>0.0</td>\n",
       "      <td>0.0</td>\n",
       "      <td>0.0</td>\n",
       "      <td>0.0</td>\n",
       "      <td>0.0</td>\n",
       "      <td>0.0</td>\n",
       "      <td>0.0</td>\n",
       "      <td>0.0</td>\n",
       "      <td>0.0</td>\n",
       "      <td>0.0</td>\n",
       "    </tr>\n",
       "    <tr>\n",
       "      <th>Brc1ccc(Br)cc1</th>\n",
       "      <td>0.0</td>\n",
       "      <td>0.0</td>\n",
       "      <td>0.0</td>\n",
       "      <td>0.0</td>\n",
       "      <td>0.0</td>\n",
       "      <td>0.0</td>\n",
       "      <td>0.0</td>\n",
       "      <td>0.0</td>\n",
       "      <td>0.0</td>\n",
       "      <td>0.0</td>\n",
       "      <td>...</td>\n",
       "      <td>0.0</td>\n",
       "      <td>0.0</td>\n",
       "      <td>0.0</td>\n",
       "      <td>0.0</td>\n",
       "      <td>0.0</td>\n",
       "      <td>0.0</td>\n",
       "      <td>0.0</td>\n",
       "      <td>0.0</td>\n",
       "      <td>0.0</td>\n",
       "      <td>0.0</td>\n",
       "    </tr>\n",
       "    <tr>\n",
       "      <th>O=c1oc2ccccc2c(O)c1C(CC(O)c1ccc(-c2ccc(Br)cc2)cc1)c1ccccc1</th>\n",
       "      <td>0.0</td>\n",
       "      <td>1.0</td>\n",
       "      <td>1.0</td>\n",
       "      <td>0.0</td>\n",
       "      <td>0.0</td>\n",
       "      <td>0.0</td>\n",
       "      <td>0.0</td>\n",
       "      <td>1.0</td>\n",
       "      <td>0.0</td>\n",
       "      <td>0.0</td>\n",
       "      <td>...</td>\n",
       "      <td>0.0</td>\n",
       "      <td>0.0</td>\n",
       "      <td>0.0</td>\n",
       "      <td>0.0</td>\n",
       "      <td>0.0</td>\n",
       "      <td>0.0</td>\n",
       "      <td>0.0</td>\n",
       "      <td>0.0</td>\n",
       "      <td>0.0</td>\n",
       "      <td>0.0</td>\n",
       "    </tr>\n",
       "    <tr>\n",
       "      <th>Cc1ccc(Br)cc1</th>\n",
       "      <td>0.0</td>\n",
       "      <td>0.0</td>\n",
       "      <td>0.0</td>\n",
       "      <td>0.0</td>\n",
       "      <td>0.0</td>\n",
       "      <td>0.0</td>\n",
       "      <td>0.0</td>\n",
       "      <td>0.0</td>\n",
       "      <td>0.0</td>\n",
       "      <td>0.0</td>\n",
       "      <td>...</td>\n",
       "      <td>0.0</td>\n",
       "      <td>0.0</td>\n",
       "      <td>0.0</td>\n",
       "      <td>0.0</td>\n",
       "      <td>0.0</td>\n",
       "      <td>0.0</td>\n",
       "      <td>0.0</td>\n",
       "      <td>0.0</td>\n",
       "      <td>0.0</td>\n",
       "      <td>0.0</td>\n",
       "    </tr>\n",
       "  </tbody>\n",
       "</table>\n",
       "<p>5 rows × 85 columns</p>\n",
       "</div>\n",
       "      <button class=\"colab-df-convert\" onclick=\"convertToInteractive('df-2923e6d6-fafd-408a-9c97-4a3629f3581f')\"\n",
       "              title=\"Convert this dataframe to an interactive table.\"\n",
       "              style=\"display:none;\">\n",
       "        \n",
       "  <svg xmlns=\"http://www.w3.org/2000/svg\" height=\"24px\"viewBox=\"0 0 24 24\"\n",
       "       width=\"24px\">\n",
       "    <path d=\"M0 0h24v24H0V0z\" fill=\"none\"/>\n",
       "    <path d=\"M18.56 5.44l.94 2.06.94-2.06 2.06-.94-2.06-.94-.94-2.06-.94 2.06-2.06.94zm-11 1L8.5 8.5l.94-2.06 2.06-.94-2.06-.94L8.5 2.5l-.94 2.06-2.06.94zm10 10l.94 2.06.94-2.06 2.06-.94-2.06-.94-.94-2.06-.94 2.06-2.06.94z\"/><path d=\"M17.41 7.96l-1.37-1.37c-.4-.4-.92-.59-1.43-.59-.52 0-1.04.2-1.43.59L10.3 9.45l-7.72 7.72c-.78.78-.78 2.05 0 2.83L4 21.41c.39.39.9.59 1.41.59.51 0 1.02-.2 1.41-.59l7.78-7.78 2.81-2.81c.8-.78.8-2.07 0-2.86zM5.41 20L4 18.59l7.72-7.72 1.47 1.35L5.41 20z\"/>\n",
       "  </svg>\n",
       "      </button>\n",
       "      \n",
       "  <style>\n",
       "    .colab-df-container {\n",
       "      display:flex;\n",
       "      flex-wrap:wrap;\n",
       "      gap: 12px;\n",
       "    }\n",
       "\n",
       "    .colab-df-convert {\n",
       "      background-color: #E8F0FE;\n",
       "      border: none;\n",
       "      border-radius: 50%;\n",
       "      cursor: pointer;\n",
       "      display: none;\n",
       "      fill: #1967D2;\n",
       "      height: 32px;\n",
       "      padding: 0 0 0 0;\n",
       "      width: 32px;\n",
       "    }\n",
       "\n",
       "    .colab-df-convert:hover {\n",
       "      background-color: #E2EBFA;\n",
       "      box-shadow: 0px 1px 2px rgba(60, 64, 67, 0.3), 0px 1px 3px 1px rgba(60, 64, 67, 0.15);\n",
       "      fill: #174EA6;\n",
       "    }\n",
       "\n",
       "    [theme=dark] .colab-df-convert {\n",
       "      background-color: #3B4455;\n",
       "      fill: #D2E3FC;\n",
       "    }\n",
       "\n",
       "    [theme=dark] .colab-df-convert:hover {\n",
       "      background-color: #434B5C;\n",
       "      box-shadow: 0px 1px 3px 1px rgba(0, 0, 0, 0.15);\n",
       "      filter: drop-shadow(0px 1px 2px rgba(0, 0, 0, 0.3));\n",
       "      fill: #FFFFFF;\n",
       "    }\n",
       "  </style>\n",
       "\n",
       "      <script>\n",
       "        const buttonEl =\n",
       "          document.querySelector('#df-2923e6d6-fafd-408a-9c97-4a3629f3581f button.colab-df-convert');\n",
       "        buttonEl.style.display =\n",
       "          google.colab.kernel.accessAllowed ? 'block' : 'none';\n",
       "\n",
       "        async function convertToInteractive(key) {\n",
       "          const element = document.querySelector('#df-2923e6d6-fafd-408a-9c97-4a3629f3581f');\n",
       "          const dataTable =\n",
       "            await google.colab.kernel.invokeFunction('convertToInteractive',\n",
       "                                                     [key], {});\n",
       "          if (!dataTable) return;\n",
       "\n",
       "          const docLinkHtml = 'Like what you see? Visit the ' +\n",
       "            '<a target=\"_blank\" href=https://colab.research.google.com/notebooks/data_table.ipynb>data table notebook</a>'\n",
       "            + ' to learn more about interactive tables.';\n",
       "          element.innerHTML = '';\n",
       "          dataTable['output_type'] = 'display_data';\n",
       "          await google.colab.output.renderOutput(dataTable, element);\n",
       "          const docLink = document.createElement('div');\n",
       "          docLink.innerHTML = docLinkHtml;\n",
       "          element.appendChild(docLink);\n",
       "        }\n",
       "      </script>\n",
       "    </div>\n",
       "  </div>\n",
       "  "
      ],
      "text/plain": [
       "                                                    fr_Al_COO  fr_Al_OH  \\\n",
       "Clc1cccc(Br)c1                                            0.0       0.0   \n",
       "Fc1cccc(Br)c1                                             0.0       0.0   \n",
       "Brc1ccc(Br)cc1                                            0.0       0.0   \n",
       "O=c1oc2ccccc2c(O)c1C(CC(O)c1ccc(-c2ccc(Br)cc2)c...        0.0       1.0   \n",
       "Cc1ccc(Br)cc1                                             0.0       0.0   \n",
       "\n",
       "                                                    fr_Al_OH_noTert  fr_ArN  \\\n",
       "Clc1cccc(Br)c1                                                  0.0     0.0   \n",
       "Fc1cccc(Br)c1                                                   0.0     0.0   \n",
       "Brc1ccc(Br)cc1                                                  0.0     0.0   \n",
       "O=c1oc2ccccc2c(O)c1C(CC(O)c1ccc(-c2ccc(Br)cc2)c...              1.0     0.0   \n",
       "Cc1ccc(Br)cc1                                                   0.0     0.0   \n",
       "\n",
       "                                                    fr_Ar_COO  fr_Ar_N  \\\n",
       "Clc1cccc(Br)c1                                            0.0      0.0   \n",
       "Fc1cccc(Br)c1                                             0.0      0.0   \n",
       "Brc1ccc(Br)cc1                                            0.0      0.0   \n",
       "O=c1oc2ccccc2c(O)c1C(CC(O)c1ccc(-c2ccc(Br)cc2)c...        0.0      0.0   \n",
       "Cc1ccc(Br)cc1                                             0.0      0.0   \n",
       "\n",
       "                                                    fr_Ar_NH  fr_Ar_OH  \\\n",
       "Clc1cccc(Br)c1                                           0.0       0.0   \n",
       "Fc1cccc(Br)c1                                            0.0       0.0   \n",
       "Brc1ccc(Br)cc1                                           0.0       0.0   \n",
       "O=c1oc2ccccc2c(O)c1C(CC(O)c1ccc(-c2ccc(Br)cc2)c...       0.0       1.0   \n",
       "Cc1ccc(Br)cc1                                            0.0       0.0   \n",
       "\n",
       "                                                    fr_COO  fr_COO2  ...  \\\n",
       "Clc1cccc(Br)c1                                         0.0      0.0  ...   \n",
       "Fc1cccc(Br)c1                                          0.0      0.0  ...   \n",
       "Brc1ccc(Br)cc1                                         0.0      0.0  ...   \n",
       "O=c1oc2ccccc2c(O)c1C(CC(O)c1ccc(-c2ccc(Br)cc2)c...     0.0      0.0  ...   \n",
       "Cc1ccc(Br)cc1                                          0.0      0.0  ...   \n",
       "\n",
       "                                                    fr_sulfide  fr_sulfonamd  \\\n",
       "Clc1cccc(Br)c1                                             0.0           0.0   \n",
       "Fc1cccc(Br)c1                                              0.0           0.0   \n",
       "Brc1ccc(Br)cc1                                             0.0           0.0   \n",
       "O=c1oc2ccccc2c(O)c1C(CC(O)c1ccc(-c2ccc(Br)cc2)c...         0.0           0.0   \n",
       "Cc1ccc(Br)cc1                                              0.0           0.0   \n",
       "\n",
       "                                                    fr_sulfone  \\\n",
       "Clc1cccc(Br)c1                                             0.0   \n",
       "Fc1cccc(Br)c1                                              0.0   \n",
       "Brc1ccc(Br)cc1                                             0.0   \n",
       "O=c1oc2ccccc2c(O)c1C(CC(O)c1ccc(-c2ccc(Br)cc2)c...         0.0   \n",
       "Cc1ccc(Br)cc1                                              0.0   \n",
       "\n",
       "                                                    fr_term_acetylene  \\\n",
       "Clc1cccc(Br)c1                                                    0.0   \n",
       "Fc1cccc(Br)c1                                                     0.0   \n",
       "Brc1ccc(Br)cc1                                                    0.0   \n",
       "O=c1oc2ccccc2c(O)c1C(CC(O)c1ccc(-c2ccc(Br)cc2)c...                0.0   \n",
       "Cc1ccc(Br)cc1                                                     0.0   \n",
       "\n",
       "                                                    fr_tetrazole  fr_thiazole  \\\n",
       "Clc1cccc(Br)c1                                               0.0          0.0   \n",
       "Fc1cccc(Br)c1                                                0.0          0.0   \n",
       "Brc1ccc(Br)cc1                                               0.0          0.0   \n",
       "O=c1oc2ccccc2c(O)c1C(CC(O)c1ccc(-c2ccc(Br)cc2)c...           0.0          0.0   \n",
       "Cc1ccc(Br)cc1                                                0.0          0.0   \n",
       "\n",
       "                                                    fr_thiocyan  fr_thiophene  \\\n",
       "Clc1cccc(Br)c1                                              0.0           0.0   \n",
       "Fc1cccc(Br)c1                                               0.0           0.0   \n",
       "Brc1ccc(Br)cc1                                              0.0           0.0   \n",
       "O=c1oc2ccccc2c(O)c1C(CC(O)c1ccc(-c2ccc(Br)cc2)c...          0.0           0.0   \n",
       "Cc1ccc(Br)cc1                                               0.0           0.0   \n",
       "\n",
       "                                                    fr_unbrch_alkane  fr_urea  \n",
       "Clc1cccc(Br)c1                                                   0.0      0.0  \n",
       "Fc1cccc(Br)c1                                                    0.0      0.0  \n",
       "Brc1ccc(Br)cc1                                                   0.0      0.0  \n",
       "O=c1oc2ccccc2c(O)c1C(CC(O)c1ccc(-c2ccc(Br)cc2)c...               0.0      0.0  \n",
       "Cc1ccc(Br)cc1                                                    0.0      0.0  \n",
       "\n",
       "[5 rows x 85 columns]"
      ]
     },
     "execution_count": 18,
     "metadata": {},
     "output_type": "execute_result"
    }
   ],
   "source": [
    "X_fun"
   ]
  },
  {
   "cell_type": "markdown",
   "metadata": {
    "id": "ZiBtN1SiF-HF"
   },
   "source": [
    "# Clc1cccc(Br)c1の可視化"
   ]
  },
  {
   "cell_type": "markdown",
   "metadata": {
    "id": "um0fBpp-Fw3y"
   },
   "source": [
    "![image.png](data:image/png;base64,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)"
   ]
  },
  {
   "cell_type": "code",
   "execution_count": null,
   "metadata": {
    "colab": {
     "base_uri": "https://localhost:8080/"
    },
    "id": "1Sb_MESeA_Cd",
    "outputId": "ef46faca-0fe2-4555-dae5-fc3a6e4f56e1"
   },
   "outputs": [
    {
     "data": {
      "text/plain": [
       "fr_benzene    1.0\n",
       "fr_halogen    2.0\n",
       "Name: Clc1cccc(Br)c1, dtype: float64"
      ]
     },
     "execution_count": 21,
     "metadata": {},
     "output_type": "execute_result"
    }
   ],
   "source": [
    "X_fun.iloc[0][X_fun.iloc[0] >=1]"
   ]
  },
  {
   "cell_type": "markdown",
   "metadata": {
    "id": "LXKER1VMGE11"
   },
   "source": [
    "結果\n",
    "\n",
    "fr_benzeneはベンゼン環に対応する\n",
    "\n",
    "fr_halogenはハロゲン置換体に対応する"
   ]
  },
  {
   "cell_type": "markdown",
   "metadata": {
    "id": "MjO1GKbXGfgH"
   },
   "source": [
    "# Fc1cccc(Br)c1の可視化"
   ]
  },
  {
   "cell_type": "markdown",
   "metadata": {
    "id": "KkG5puWoHIzT"
   },
   "source": [
    "![picture2.jpeg](data:image/jpeg;base64,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)"
   ]
  },
  {
   "cell_type": "code",
   "execution_count": null,
   "metadata": {
    "colab": {
     "base_uri": "https://localhost:8080/"
    },
    "id": "z-JfkmgcHO48",
    "outputId": "232362e3-aaff-4b83-ab50-bbbd47ad1788"
   },
   "outputs": [
    {
     "data": {
      "text/plain": [
       "fr_benzene    1.0\n",
       "fr_halogen    2.0\n",
       "Name: Fc1cccc(Br)c1, dtype: float64"
      ]
     },
     "execution_count": 22,
     "metadata": {},
     "output_type": "execute_result"
    }
   ],
   "source": [
    "X_fun.iloc[1][X_fun.iloc[1] >=1]"
   ]
  },
  {
   "cell_type": "markdown",
   "metadata": {
    "id": "coBtBeXNHVo5"
   },
   "source": [
    "結果\n",
    "\n",
    "fr_benzeneはベンゼン環に対応する\n",
    "\n",
    "fr_halogenはハロゲン置換体に対応する"
   ]
  },
  {
   "cell_type": "markdown",
   "metadata": {
    "id": "PqxznIexHXbG"
   },
   "source": [
    "# Brc1ccc(Br)cc1の可視化"
   ]
  },
  {
   "cell_type": "markdown",
   "metadata": {
    "id": "PxNvJrllHs-_"
   },
   "source": [
    "![picture3.jpeg](data:image/jpeg;base64,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)"
   ]
  },
  {
   "cell_type": "code",
   "execution_count": null,
   "metadata": {
    "colab": {
     "base_uri": "https://localhost:8080/"
    },
    "id": "psofyiAXH3Wj",
    "outputId": "69aa5ae4-f340-4d8d-ae9f-0b0bf2b25f62"
   },
   "outputs": [
    {
     "data": {
      "text/plain": [
       "fr_benzene    1.0\n",
       "fr_halogen    2.0\n",
       "Name: Brc1ccc(Br)cc1, dtype: float64"
      ]
     },
     "execution_count": 24,
     "metadata": {},
     "output_type": "execute_result"
    }
   ],
   "source": [
    "X_fun.iloc[2][X_fun.iloc[2] >=1]"
   ]
  },
  {
   "cell_type": "markdown",
   "metadata": {
    "id": "UodNKnXzH8m_"
   },
   "source": [
    "結果\n",
    "\n",
    "fr_benzeneはベンゼン環に対応する\n",
    "\n",
    "fr_halogenはハロゲン置換体に対応する"
   ]
  },
  {
   "cell_type": "markdown",
   "metadata": {
    "id": "VuGOCRX9H-qj"
   },
   "source": [
    "# O=c1oc2ccccc2c(O)c1C(CC(O)c1ccc(-c2ccc(Br)cc2)cc1)c1ccccc1の可視化"
   ]
  },
  {
   "cell_type": "markdown",
   "metadata": {
    "id": "ZVNdvM3eJQ77"
   },
   "source": [
    "![picture_4.jpeg](data:image/jpeg;base64,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)"
   ]
  },
  {
   "cell_type": "code",
   "execution_count": null,
   "metadata": {
    "colab": {
     "base_uri": "https://localhost:8080/"
    },
    "id": "lzd8MY0IJX_9",
    "outputId": "ed2c7a02-a03e-4bf6-b3a4-ee6d559053ab"
   },
   "outputs": [
    {
     "data": {
      "text/plain": [
       "fr_Al_OH                 1.0\n",
       "fr_Al_OH_noTert          1.0\n",
       "fr_Ar_OH                 1.0\n",
       "fr_benzene               4.0\n",
       "fr_bicyclic              1.0\n",
       "fr_halogen               1.0\n",
       "fr_para_hydroxylation    1.0\n",
       "Name: O=c1oc2ccccc2c(O)c1C(CC(O)c1ccc(-c2ccc(Br)cc2)cc1)c1ccccc1, dtype: float64"
      ]
     },
     "execution_count": 25,
     "metadata": {},
     "output_type": "execute_result"
    }
   ],
   "source": [
    "X_fun.iloc[3][X_fun.iloc[3] >=1]"
   ]
  },
  {
   "cell_type": "markdown",
   "metadata": {
    "id": "Op7BO3hxJePt"
   },
   "source": [
    "結果\n",
    "\n",
    "fr_benzeneはベンゼン環に対応する\n",
    "\n",
    "fr_halogenはハロゲン置換体に対応する\n",
    "\n",
    "fr_AL_OHは脂肪族ヒドロキシル基に対応する\n",
    "\n",
    "fr_Al_OH_noTertはtert-OHを除く脂肪族水酸基に対応する\n",
    "\n",
    "fr_Ar_OHはヒドロキシル基に対応する\n",
    "\n",
    "fr_bicyclicはbycyclic構造に対応する\n",
    "\n",
    "fr_para_hydroxylationはパラヒドロキシル化部位(para-hydroxy)に対応する\n"
   ]
  },
  {
   "cell_type": "markdown",
   "metadata": {
    "id": "quF8u7iyKiCJ"
   },
   "source": [
    "#Cc1ccc(Br)cc1"
   ]
  },
  {
   "cell_type": "markdown",
   "metadata": {
    "id": "EE4TqGizMMdK"
   },
   "source": [
    "![picture_5.jpeg](data:image/jpeg;base64,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)"
   ]
  },
  {
   "cell_type": "code",
   "execution_count": null,
   "metadata": {
    "colab": {
     "base_uri": "https://localhost:8080/"
    },
    "id": "rnbB-Qv8MPEs",
    "outputId": "a2530b3a-709e-436c-ce66-1368175bd99f"
   },
   "outputs": [
    {
     "data": {
      "text/plain": [
       "fr_aryl_methyl    1.0\n",
       "fr_benzene        1.0\n",
       "fr_halogen        1.0\n",
       "Name: Cc1ccc(Br)cc1, dtype: float64"
      ]
     },
     "execution_count": 26,
     "metadata": {},
     "output_type": "execute_result"
    }
   ],
   "source": [
    "X_fun.iloc[4][X_fun.iloc[4] >=1]"
   ]
  },
  {
   "cell_type": "markdown",
   "metadata": {
    "id": "aoMKiSHtMTld"
   },
   "source": [
    "結果\n",
    "\n",
    "fr_benzeneはベンゼン環に対応する\n",
    "\n",
    "fr_halogenはハロゲン置換体に対応する\n",
    "\n",
    "fr_aryl_methylはメチル基に対応する\n"
   ]
  },
  {
   "cell_type": "markdown",
   "metadata": {
    "id": "GVhdWJadWebw"
   },
   "source": [
    "### 課題3　train_test_split"
   ]
  },
  {
   "cell_type": "code",
   "execution_count": null,
   "metadata": {
    "id": "o04IvDc_WfWQ"
   },
   "outputs": [],
   "source": [
    "#train_test_split 80:20\n",
    "from sklearn.model_selection import train_test_split\n",
    "X_train,X_test,y_train,y_test = train_test_split(X,y,test_size=0.2)"
   ]
  },
  {
   "cell_type": "markdown",
   "metadata": {
    "id": "ZS8tlAGsXIE_"
   },
   "source": [
    "### 課題4　StandardScalerを行う"
   ]
  },
  {
   "cell_type": "code",
   "execution_count": null,
   "metadata": {
    "colab": {
     "base_uri": "https://localhost:8080/"
    },
    "id": "GT3ldEjuXKtY",
    "outputId": "4d904cf6-c761-40de-8b55-db8bbbec80d0"
   },
   "outputs": [
    {
     "data": {
      "text/plain": [
       "StandardScaler()"
      ]
     },
     "execution_count": 24,
     "metadata": {},
     "output_type": "execute_result"
    }
   ],
   "source": [
    "#StandardScalerを行う\n",
    "from sklearn.preprocessing import StandardScaler\n",
    "#normalization\n",
    "scaler_X = StandardScaler()\n",
    "scaler_y = StandardScaler()\n",
    "scaler_X.fit(X_train)\n",
    "scaler_y.fit(y_train.reshape(-1,1))"
   ]
  },
  {
   "cell_type": "code",
   "execution_count": null,
   "metadata": {
    "id": "HomBnDQfXtil"
   },
   "outputs": [],
   "source": [
    "X_train_scaled = scaler_X.transform(X_train)\n",
    "y_train_scaled = scaler_y.transform(y_train.reshape(-1,1))\n",
    "X_test_scaled = scaler_X.transform(X_test)"
   ]
  },
  {
   "cell_type": "markdown",
   "metadata": {
    "id": "AqOXTV9UZDDO"
   },
   "source": [
    "### 課題5　グリッドサーチによるハイパーパラメータチューニング"
   ]
  },
  {
   "cell_type": "code",
   "execution_count": null,
   "metadata": {
    "id": "Xn_yfTqgZF9n"
   },
   "outputs": [],
   "source": [
    "from sklearn.cross_decomposition import PLSRegression\n",
    "from sklearn.svm import SVR\n",
    "from sklearn.model_selection import GridSearchCV\n",
    "from sklearn.ensemble import RandomForestRegressor\n",
    "\n",
    "models = {\n",
    "    'PLS': GridSearchCV(\n",
    "        PLSRegression(),\n",
    "        param_grid={\n",
    "            'n_components':[ii for ii in range(1,61)]\n",
    "        },\n",
    "        cv=5\n",
    "    ),\n",
    "    'SVR':GridSearchCV(\n",
    "        SVR(),\n",
    "        param_grid={\n",
    "            'gamma':[2**ii for ii in range(-5,5)],\n",
    "            'C':[2**ii for ii in range(-5,5)],\n",
    "            'epsilon':[2**ii for ii in range(-5,5)],\n",
    "        },\n",
    "        cv=5\n",
    "    ),\n",
    "    'RF': RandomForestRegressor(n_estimators=500)\n",
    "}"
   ]
  },
  {
   "cell_type": "markdown",
   "metadata": {
    "id": "gqW0FsycM577"
   },
   "source": [
    "#モデルの予測"
   ]
  },
  {
   "cell_type": "code",
   "execution_count": null,
   "metadata": {
    "id": "O5bKWHFNZe0Q"
   },
   "outputs": [],
   "source": [
    "y_train_preds = {}\n",
    "y_test_preds = {}\n",
    "for name,model in models.items():\n",
    "    model.fit(X_train_scaled,y_train_scaled.flatten())\n",
    "    y_train_pred_scaled = model.predict(X_train_scaled)\n",
    "    y_test_pred_scaled = model.predict(X_test_scaled)\n",
    "    y_train_pred_scaled = y_train_pred_scaled.reshape(-1,1)\n",
    "    y_test_pred_scaled = y_test_pred_scaled.reshape(-1,1)\n",
    "    y_train_preds[name] = scaler_y.inverse_transform(y_train_pred_scaled)\n",
    "    y_test_preds[name] = scaler_y.inverse_transform(y_test_pred_scaled)\n",
    "\n",
    "    \n",
    "\n",
    "    "
   ]
  },
  {
   "cell_type": "markdown",
   "metadata": {
    "id": "4Js05J4HM0hn"
   },
   "source": [
    "#モデルの精度評価"
   ]
  },
  {
   "cell_type": "code",
   "execution_count": null,
   "metadata": {
    "id": "pSAggLqObm8A"
   },
   "outputs": [],
   "source": [
    "import pandas as pd\n",
    "import numpy as np\n",
    "from sklearn.metrics import r2_score\n",
    "from sklearn.metrics import mean_squared_error\n",
    "from sklearn.metrics import mean_absolute_error\n",
    "\n",
    "df = pd.DataFrame(\n",
    "    index = ['PLS','SVR','RF'],\n",
    "    columns = [\n",
    "               'R2_train','MAE_train','RMSE_train',\n",
    "               'R2_test','MAE_test','RMSE_test',\n",
    "    ]\n",
    ")\n",
    "for name in ['PLS','SVR','RF']:\n",
    "   y_train_pred = y_train_preds[name]\n",
    "   y_test_pred = y_test_preds[name]\n",
    "   df.loc[name,'R2_train'] = r2_score(y_train,y_train_pred)\n",
    "   df.loc[name,'RMSE_train'] \\\n",
    "       = np.sqrt(mean_squared_error(y_train,y_train_pred))\n",
    "   df.loc[name,'MAE_train'] \\\n",
    "       = np.sqrt(mean_absolute_error(y_train,y_train_pred))\n",
    "   df.loc[name,'R2_test'] = r2_score(y_test,y_test_pred)\n",
    "   df.loc[name,'RMSE_test'] \\\n",
    "       = np.sqrt(mean_squared_error(y_test,y_test_pred))\n",
    "   df.loc[name,'MAE_test'] \\\n",
    "       = np.sqrt(mean_absolute_error(y_test,y_test_pred))\n",
    "   "
   ]
  },
  {
   "cell_type": "code",
   "execution_count": null,
   "metadata": {
    "colab": {
     "base_uri": "https://localhost:8080/",
     "height": 143
    },
    "id": "ROhNe33Zd58V",
    "outputId": "a0793bf4-5bf9-4be5-dd1f-c6b1199e762c"
   },
   "outputs": [
    {
     "data": {
      "text/html": [
       "\n",
       "  <div id=\"df-d41458af-5c44-45dd-b83d-93f9d8288795\">\n",
       "    <div class=\"colab-df-container\">\n",
       "      <div>\n",
       "<style scoped>\n",
       "    .dataframe tbody tr th:only-of-type {\n",
       "        vertical-align: middle;\n",
       "    }\n",
       "\n",
       "    .dataframe tbody tr th {\n",
       "        vertical-align: top;\n",
       "    }\n",
       "\n",
       "    .dataframe thead th {\n",
       "        text-align: right;\n",
       "    }\n",
       "</style>\n",
       "<table border=\"1\" class=\"dataframe\">\n",
       "  <thead>\n",
       "    <tr style=\"text-align: right;\">\n",
       "      <th></th>\n",
       "      <th>R2_train</th>\n",
       "      <th>MAE_train</th>\n",
       "      <th>RMSE_train</th>\n",
       "      <th>R2_test</th>\n",
       "      <th>MAE_test</th>\n",
       "      <th>RMSE_test</th>\n",
       "    </tr>\n",
       "  </thead>\n",
       "  <tbody>\n",
       "    <tr>\n",
       "      <th>PLS</th>\n",
       "      <td>0.791864</td>\n",
       "      <td>0.852726</td>\n",
       "      <td>0.939105</td>\n",
       "      <td>0.790785</td>\n",
       "      <td>0.908435</td>\n",
       "      <td>1.021842</td>\n",
       "    </tr>\n",
       "    <tr>\n",
       "      <th>SVR</th>\n",
       "      <td>0.908571</td>\n",
       "      <td>0.664928</td>\n",
       "      <td>0.62242</td>\n",
       "      <td>0.86049</td>\n",
       "      <td>0.79951</td>\n",
       "      <td>0.834432</td>\n",
       "    </tr>\n",
       "    <tr>\n",
       "      <th>RF</th>\n",
       "      <td>0.934562</td>\n",
       "      <td>0.609505</td>\n",
       "      <td>0.52657</td>\n",
       "      <td>0.88262</td>\n",
       "      <td>0.76178</td>\n",
       "      <td>0.765393</td>\n",
       "    </tr>\n",
       "  </tbody>\n",
       "</table>\n",
       "</div>\n",
       "      <button class=\"colab-df-convert\" onclick=\"convertToInteractive('df-d41458af-5c44-45dd-b83d-93f9d8288795')\"\n",
       "              title=\"Convert this dataframe to an interactive table.\"\n",
       "              style=\"display:none;\">\n",
       "        \n",
       "  <svg xmlns=\"http://www.w3.org/2000/svg\" height=\"24px\"viewBox=\"0 0 24 24\"\n",
       "       width=\"24px\">\n",
       "    <path d=\"M0 0h24v24H0V0z\" fill=\"none\"/>\n",
       "    <path d=\"M18.56 5.44l.94 2.06.94-2.06 2.06-.94-2.06-.94-.94-2.06-.94 2.06-2.06.94zm-11 1L8.5 8.5l.94-2.06 2.06-.94-2.06-.94L8.5 2.5l-.94 2.06-2.06.94zm10 10l.94 2.06.94-2.06 2.06-.94-2.06-.94-.94-2.06-.94 2.06-2.06.94z\"/><path d=\"M17.41 7.96l-1.37-1.37c-.4-.4-.92-.59-1.43-.59-.52 0-1.04.2-1.43.59L10.3 9.45l-7.72 7.72c-.78.78-.78 2.05 0 2.83L4 21.41c.39.39.9.59 1.41.59.51 0 1.02-.2 1.41-.59l7.78-7.78 2.81-2.81c.8-.78.8-2.07 0-2.86zM5.41 20L4 18.59l7.72-7.72 1.47 1.35L5.41 20z\"/>\n",
       "  </svg>\n",
       "      </button>\n",
       "      \n",
       "  <style>\n",
       "    .colab-df-container {\n",
       "      display:flex;\n",
       "      flex-wrap:wrap;\n",
       "      gap: 12px;\n",
       "    }\n",
       "\n",
       "    .colab-df-convert {\n",
       "      background-color: #E8F0FE;\n",
       "      border: none;\n",
       "      border-radius: 50%;\n",
       "      cursor: pointer;\n",
       "      display: none;\n",
       "      fill: #1967D2;\n",
       "      height: 32px;\n",
       "      padding: 0 0 0 0;\n",
       "      width: 32px;\n",
       "    }\n",
       "\n",
       "    .colab-df-convert:hover {\n",
       "      background-color: #E2EBFA;\n",
       "      box-shadow: 0px 1px 2px rgba(60, 64, 67, 0.3), 0px 1px 3px 1px rgba(60, 64, 67, 0.15);\n",
       "      fill: #174EA6;\n",
       "    }\n",
       "\n",
       "    [theme=dark] .colab-df-convert {\n",
       "      background-color: #3B4455;\n",
       "      fill: #D2E3FC;\n",
       "    }\n",
       "\n",
       "    [theme=dark] .colab-df-convert:hover {\n",
       "      background-color: #434B5C;\n",
       "      box-shadow: 0px 1px 3px 1px rgba(0, 0, 0, 0.15);\n",
       "      filter: drop-shadow(0px 1px 2px rgba(0, 0, 0, 0.3));\n",
       "      fill: #FFFFFF;\n",
       "    }\n",
       "  </style>\n",
       "\n",
       "      <script>\n",
       "        const buttonEl =\n",
       "          document.querySelector('#df-d41458af-5c44-45dd-b83d-93f9d8288795 button.colab-df-convert');\n",
       "        buttonEl.style.display =\n",
       "          google.colab.kernel.accessAllowed ? 'block' : 'none';\n",
       "\n",
       "        async function convertToInteractive(key) {\n",
       "          const element = document.querySelector('#df-d41458af-5c44-45dd-b83d-93f9d8288795');\n",
       "          const dataTable =\n",
       "            await google.colab.kernel.invokeFunction('convertToInteractive',\n",
       "                                                     [key], {});\n",
       "          if (!dataTable) return;\n",
       "\n",
       "          const docLinkHtml = 'Like what you see? Visit the ' +\n",
       "            '<a target=\"_blank\" href=https://colab.research.google.com/notebooks/data_table.ipynb>data table notebook</a>'\n",
       "            + ' to learn more about interactive tables.';\n",
       "          element.innerHTML = '';\n",
       "          dataTable['output_type'] = 'display_data';\n",
       "          await google.colab.output.renderOutput(dataTable, element);\n",
       "          const docLink = document.createElement('div');\n",
       "          docLink.innerHTML = docLinkHtml;\n",
       "          element.appendChild(docLink);\n",
       "        }\n",
       "      </script>\n",
       "    </div>\n",
       "  </div>\n",
       "  "
      ],
      "text/plain": [
       "     R2_train MAE_train RMSE_train   R2_test  MAE_test RMSE_test\n",
       "PLS  0.791864  0.852726   0.939105  0.790785  0.908435  1.021842\n",
       "SVR  0.908571  0.664928    0.62242   0.86049   0.79951  0.834432\n",
       "RF   0.934562  0.609505    0.52657   0.88262   0.76178  0.765393"
      ]
     },
     "execution_count": 29,
     "metadata": {},
     "output_type": "execute_result"
    }
   ],
   "source": [
    "df"
   ]
  },
  {
   "cell_type": "markdown",
   "metadata": {
    "id": "oO7AUTiueyK8"
   },
   "source": [
    "### 課題8　実測値－予測値プロット"
   ]
  },
  {
   "cell_type": "code",
   "execution_count": null,
   "metadata": {
    "colab": {
     "base_uri": "https://localhost:8080/",
     "height": 1000
    },
    "id": "DTJs43JRe1fV",
    "outputId": "94b720d5-19d0-43ab-f57a-0cfc137fcdb7"
   },
   "outputs": [
    {
     "data": {
      "image/png": "[encoded data removed]",
      "text/plain": [
       "<Figure size 360x360 with 1 Axes>"
      ]
     },
     "metadata": {
      "needs_background": "light"
     },
     "output_type": "display_data"
    },
    {
     "data": {
      "image/png": "[encoded data removed]",
      "text/plain": [
       "<Figure size 360x360 with 1 Axes>"
      ]
     },
     "metadata": {
      "needs_background": "light"
     },
     "output_type": "display_data"
    },
    {
     "data": {
      "image/png": "[encoded data removed]",
      "text/plain": [
       "<Figure size 360x360 with 1 Axes>"
      ]
     },
     "metadata": {
      "needs_background": "light"
     },
     "output_type": "display_data"
    }
   ],
   "source": [
    "import matplotlib.pyplot as plt\n",
    "for name in ['PLS','SVR','RF']:\n",
    "    y_train_pred = y_train_preds[name]\n",
    "    y_test_pred = y_test_preds[name]\n",
    "    min_val = min(min(y_train),min(y_train_pred),min(y_test),min(y_test_pred))\n",
    "    max_val = max(max(y_train),max(y_train_pred),max(y_test),max(y_test_pred))\n",
    "    margin = (max_val-min_val)*0.1\n",
    "    xy_lim = [min_val-margin,max_val+margin]\n",
    "    fig = plt.figure(figsize=[5,5])\n",
    "    ax = fig.add_subplot(1,1,1)\n",
    "    ax.plot(xy_lim,xy_lim,'k-')\n",
    "    ax.plot(y_test,y_test_pred,'b.',label='Train')\n",
    "    ax.plot(y_test,y_test_pred,'rx', label='Test')\n",
    "    ax.set_xlim(xy_lim)\n",
    "    ax.set_ylim(xy_lim)\n",
    "    ax.set_xlabel('Observed',fontsize=12)\n",
    "    ax.set_ylabel('Predicted',fontsize=12)\n",
    "    ax.set_title(name,fontsize=12)\n",
    "    ax.tick_params(labelsize=12)\n",
    "    ax.legend(fontsize=12)\n",
    "    fig.savefig('{}.png'.format(name))\n",
    "plt.show()"
   ]
  },
  {
   "cell_type": "markdown",
   "metadata": {
    "id": "Fc_u4OyYfxMf"
   },
   "source": [
    "### 課題9　説明変数の重要度の確認"
   ]
  },
  {
   "cell_type": "code",
   "execution_count": null,
   "metadata": {
    "colab": {
     "base_uri": "https://localhost:8080/"
    },
    "id": "46fvMg6bhSEl",
    "outputId": "214dc1a4-3a1d-4e8b-e101-adc4ff16bb64"
   },
   "outputs": [
    {
     "data": {
      "text/plain": [
       "Index(['fr_Al_COO', 'fr_Al_OH', 'fr_Al_OH_noTert', 'fr_ArN', 'fr_Ar_COO',\n",
       "       'fr_Ar_N', 'fr_Ar_NH', 'fr_Ar_OH', 'fr_COO', 'fr_COO2', 'fr_C_O',\n",
       "       'fr_C_O_noCOO', 'fr_C_S', 'fr_HOCCN', 'fr_Imine', 'fr_NH0', 'fr_NH1',\n",
       "       'fr_NH2', 'fr_N_O', 'fr_Ndealkylation1', 'fr_Ndealkylation2',\n",
       "       'fr_Nhpyrrole', 'fr_SH', 'fr_aldehyde', 'fr_alkyl_carbamate',\n",
       "       'fr_alkyl_halide', 'fr_allylic_oxid', 'fr_amide', 'fr_amidine',\n",
       "       'fr_aniline', 'fr_aryl_methyl', 'fr_azide', 'fr_azo', 'fr_barbitur',\n",
       "       'fr_benzene', 'fr_benzodiazepine', 'fr_bicyclic', 'fr_diazo',\n",
       "       'fr_dihydropyridine', 'fr_epoxide', 'fr_ester', 'fr_ether', 'fr_furan',\n",
       "       'fr_guanido', 'fr_halogen', 'fr_hdrzine', 'fr_hdrzone', 'fr_imidazole',\n",
       "       'fr_imide', 'fr_isocyan', 'fr_isothiocyan', 'fr_ketone',\n",
       "       'fr_ketone_Topliss', 'fr_lactam', 'fr_lactone', 'fr_methoxy',\n",
       "       'fr_morpholine', 'fr_nitrile', 'fr_nitro', 'fr_nitro_arom',\n",
       "       'fr_nitro_arom_nonortho', 'fr_nitroso', 'fr_oxazole', 'fr_oxime',\n",
       "       'fr_para_hydroxylation', 'fr_phenol', 'fr_phenol_noOrthoHbond',\n",
       "       'fr_phos_acid', 'fr_phos_ester', 'fr_piperdine', 'fr_piperzine',\n",
       "       'fr_priamide', 'fr_prisulfonamd', 'fr_pyridine', 'fr_quatN',\n",
       "       'fr_sulfide', 'fr_sulfonamd', 'fr_sulfone', 'fr_term_acetylene',\n",
       "       'fr_tetrazole', 'fr_thiazole', 'fr_thiocyan', 'fr_thiophene',\n",
       "       'fr_unbrch_alkane', 'fr_urea'],\n",
       "      dtype='object')"
      ]
     },
     "execution_count": 31,
     "metadata": {},
     "output_type": "execute_result"
    }
   ],
   "source": [
    "X.columns"
   ]
  },
  {
   "cell_type": "markdown",
   "metadata": {
    "id": "s8Q7fJLTNJW6"
   },
   "source": [
    "molecular desciptors85個あるので、最も貢献度の高い5つの変数だけを選んで可視化することにします。"
   ]
  },
  {
   "cell_type": "code",
   "execution_count": null,
   "metadata": {
    "colab": {
     "base_uri": "https://localhost:8080/",
     "height": 592
    },
    "id": "yaCLo1HNfzKl",
    "outputId": "d1250f6a-9d23-4348-84c6-4ce25e066288"
   },
   "outputs": [
    {
     "data": {
      "image/png": "[encoded data removed]",
      "text/plain": [
       "<Figure size 720x720 with 1 Axes>"
      ]
     },
     "metadata": {
      "needs_background": "light"
     },
     "output_type": "display_data"
    }
   ],
   "source": [
    "#説明変数の重要度の確認\n",
    "\n",
    "importance_PLS = pd.DataFrame(\n",
    "    {\n",
    "        'coef': models['PLS'].best_estimator_.coef_.flatten()\n",
    "    },\n",
    "    index = X.columns\n",
    ")\n",
    "importance_PLS.sort_values('coef',ascending=False,inplace=True)\n",
    "fig = plt.figure(figsize=[10,10])\n",
    "ax = fig.add_subplot(1,1,1)\n",
    "ax.bar(importance_PLS[0:5].index,importance_PLS[0:5]['coef'],)\n",
    "fig.savefig('importance_PLS.png')\n",
    "plt.show()\n"
   ]
  },
  {
   "cell_type": "code",
   "execution_count": null,
   "metadata": {
    "colab": {
     "base_uri": "https://localhost:8080/",
     "height": 206
    },
    "id": "IddbpAsBjFeV",
    "outputId": "eebd2182-4f00-49ea-85ca-421a31327c81"
   },
   "outputs": [
    {
     "data": {
      "text/html": [
       "\n",
       "  <div id=\"df-bf209e05-5704-4fa0-8436-7eb3d4db6a32\">\n",
       "    <div class=\"colab-df-container\">\n",
       "      <div>\n",
       "<style scoped>\n",
       "    .dataframe tbody tr th:only-of-type {\n",
       "        vertical-align: middle;\n",
       "    }\n",
       "\n",
       "    .dataframe tbody tr th {\n",
       "        vertical-align: top;\n",
       "    }\n",
       "\n",
       "    .dataframe thead th {\n",
       "        text-align: right;\n",
       "    }\n",
       "</style>\n",
       "<table border=\"1\" class=\"dataframe\">\n",
       "  <thead>\n",
       "    <tr style=\"text-align: right;\">\n",
       "      <th></th>\n",
       "      <th>coef</th>\n",
       "    </tr>\n",
       "  </thead>\n",
       "  <tbody>\n",
       "    <tr>\n",
       "      <th>fr_alkyl_halide</th>\n",
       "      <td>0.209511</td>\n",
       "    </tr>\n",
       "    <tr>\n",
       "      <th>fr_Al_OH</th>\n",
       "      <td>0.097013</td>\n",
       "    </tr>\n",
       "    <tr>\n",
       "      <th>fr_Ar_OH</th>\n",
       "      <td>0.083921</td>\n",
       "    </tr>\n",
       "    <tr>\n",
       "      <th>fr_phenol</th>\n",
       "      <td>0.075442</td>\n",
       "    </tr>\n",
       "    <tr>\n",
       "      <th>fr_phenol_noOrthoHbond</th>\n",
       "      <td>0.075442</td>\n",
       "    </tr>\n",
       "  </tbody>\n",
       "</table>\n",
       "</div>\n",
       "      <button class=\"colab-df-convert\" onclick=\"convertToInteractive('df-bf209e05-5704-4fa0-8436-7eb3d4db6a32')\"\n",
       "              title=\"Convert this dataframe to an interactive table.\"\n",
       "              style=\"display:none;\">\n",
       "        \n",
       "  <svg xmlns=\"http://www.w3.org/2000/svg\" height=\"24px\"viewBox=\"0 0 24 24\"\n",
       "       width=\"24px\">\n",
       "    <path d=\"M0 0h24v24H0V0z\" fill=\"none\"/>\n",
       "    <path d=\"M18.56 5.44l.94 2.06.94-2.06 2.06-.94-2.06-.94-.94-2.06-.94 2.06-2.06.94zm-11 1L8.5 8.5l.94-2.06 2.06-.94-2.06-.94L8.5 2.5l-.94 2.06-2.06.94zm10 10l.94 2.06.94-2.06 2.06-.94-2.06-.94-.94-2.06-.94 2.06-2.06.94z\"/><path d=\"M17.41 7.96l-1.37-1.37c-.4-.4-.92-.59-1.43-.59-.52 0-1.04.2-1.43.59L10.3 9.45l-7.72 7.72c-.78.78-.78 2.05 0 2.83L4 21.41c.39.39.9.59 1.41.59.51 0 1.02-.2 1.41-.59l7.78-7.78 2.81-2.81c.8-.78.8-2.07 0-2.86zM5.41 20L4 18.59l7.72-7.72 1.47 1.35L5.41 20z\"/>\n",
       "  </svg>\n",
       "      </button>\n",
       "      \n",
       "  <style>\n",
       "    .colab-df-container {\n",
       "      display:flex;\n",
       "      flex-wrap:wrap;\n",
       "      gap: 12px;\n",
       "    }\n",
       "\n",
       "    .colab-df-convert {\n",
       "      background-color: #E8F0FE;\n",
       "      border: none;\n",
       "      border-radius: 50%;\n",
       "      cursor: pointer;\n",
       "      display: none;\n",
       "      fill: #1967D2;\n",
       "      height: 32px;\n",
       "      padding: 0 0 0 0;\n",
       "      width: 32px;\n",
       "    }\n",
       "\n",
       "    .colab-df-convert:hover {\n",
       "      background-color: #E2EBFA;\n",
       "      box-shadow: 0px 1px 2px rgba(60, 64, 67, 0.3), 0px 1px 3px 1px rgba(60, 64, 67, 0.15);\n",
       "      fill: #174EA6;\n",
       "    }\n",
       "\n",
       "    [theme=dark] .colab-df-convert {\n",
       "      background-color: #3B4455;\n",
       "      fill: #D2E3FC;\n",
       "    }\n",
       "\n",
       "    [theme=dark] .colab-df-convert:hover {\n",
       "      background-color: #434B5C;\n",
       "      box-shadow: 0px 1px 3px 1px rgba(0, 0, 0, 0.15);\n",
       "      filter: drop-shadow(0px 1px 2px rgba(0, 0, 0, 0.3));\n",
       "      fill: #FFFFFF;\n",
       "    }\n",
       "  </style>\n",
       "\n",
       "      <script>\n",
       "        const buttonEl =\n",
       "          document.querySelector('#df-bf209e05-5704-4fa0-8436-7eb3d4db6a32 button.colab-df-convert');\n",
       "        buttonEl.style.display =\n",
       "          google.colab.kernel.accessAllowed ? 'block' : 'none';\n",
       "\n",
       "        async function convertToInteractive(key) {\n",
       "          const element = document.querySelector('#df-bf209e05-5704-4fa0-8436-7eb3d4db6a32');\n",
       "          const dataTable =\n",
       "            await google.colab.kernel.invokeFunction('convertToInteractive',\n",
       "                                                     [key], {});\n",
       "          if (!dataTable) return;\n",
       "\n",
       "          const docLinkHtml = 'Like what you see? Visit the ' +\n",
       "            '<a target=\"_blank\" href=https://colab.research.google.com/notebooks/data_table.ipynb>data table notebook</a>'\n",
       "            + ' to learn more about interactive tables.';\n",
       "          element.innerHTML = '';\n",
       "          dataTable['output_type'] = 'display_data';\n",
       "          await google.colab.output.renderOutput(dataTable, element);\n",
       "          const docLink = document.createElement('div');\n",
       "          docLink.innerHTML = docLinkHtml;\n",
       "          element.appendChild(docLink);\n",
       "        }\n",
       "      </script>\n",
       "    </div>\n",
       "  </div>\n",
       "  "
      ],
      "text/plain": [
       "                            coef\n",
       "fr_alkyl_halide         0.209511\n",
       "fr_Al_OH                0.097013\n",
       "fr_Ar_OH                0.083921\n",
       "fr_phenol               0.075442\n",
       "fr_phenol_noOrthoHbond  0.075442"
      ]
     },
     "execution_count": 33,
     "metadata": {},
     "output_type": "execute_result"
    }
   ],
   "source": [
    "importance_PLS[0:5]"
   ]
  },
  {
   "cell_type": "markdown",
   "metadata": {
    "id": "FY2GIwbojriq"
   },
   "source": [
    "# 重要な部分の構造 PLS\n",
    "fr_alkyl_halide\t\n",
    "fr_para_hydroxylation\t\n",
    "fr_NH2\t\n",
    "fr_ArN\t\n",
    "fr_methoxy\n"
   ]
  },
  {
   "cell_type": "code",
   "execution_count": null,
   "metadata": {
    "colab": {
     "base_uri": "https://localhost:8080/",
     "height": 592
    },
    "id": "TNx5Y6vmkPAt",
    "outputId": "963d18ea-60f2-4dd4-e336-cc7c5b0493c0"
   },
   "outputs": [
    {
     "data": {
      "image/png": "[encoded data removed]",
      "text/plain": [
       "<Figure size 720x720 with 1 Axes>"
      ]
     },
     "metadata": {
      "needs_background": "light"
     },
     "output_type": "display_data"
    }
   ],
   "source": [
    "#説明変数の重要度の確認\n",
    "\n",
    "importance_RF = pd.DataFrame(\n",
    "    {\n",
    "        'feature_importances': models['RF'].feature_importances_\n",
    "    },\n",
    "    index = X.columns\n",
    ")\n",
    "importance_RF.sort_values('feature_importances',ascending=False,inplace=True)\n",
    "fig = plt.figure(figsize=[10,10])\n",
    "ax = fig.add_subplot(1,1,1)\n",
    "ax.bar(importance_RF[0:5].index,importance_RF[0:5]['feature_importances'],)\n",
    "fig.savefig('importance_RF.png')\n",
    "plt.show()\n"
   ]
  },
  {
   "cell_type": "markdown",
   "metadata": {
    "id": "eF6ITv-tk1Lr"
   },
   "source": [
    "</b>重要な部分の構造 RF</b>\n",
    "fr_benzenr\n",
    "\n",
    "fr_halogen\n",
    "\n",
    "fr_unbrch_alkene\n",
    "\n",
    "fr_ArN\n",
    "\n",
    "fr_methoxy"
   ]
  },
  {
   "cell_type": "code",
   "execution_count": null,
   "metadata": {},
   "outputs": [],
   "source": []
  }
 ],
 "metadata": {
  "colab": {
   "collapsed_sections": [],
   "name": "molecular_descriptor.ipynb",
   "provenance": []
  },
  "kernelspec": {
   "display_name": "Python 3",
   "language": "python",
   "name": "python3"
  },
  "language_info": {
   "codemirror_mode": {
    "name": "ipython",
    "version": 3
   },
   "file_extension": ".py",
   "mimetype": "text/x-python",
   "name": "python",
   "nbconvert_exporter": "python",
   "pygments_lexer": "ipython3",
   "version": "3.8.8"
  }
 },
 "nbformat": 4,
 "nbformat_minor": 1
}
